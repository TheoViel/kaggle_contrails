{
 "cells": [
  {
   "attachments": {},
   "cell_type": "markdown",
   "metadata": {},
   "source": [
    "**About** : This notebook is used to prepare the data."
   ]
  },
  {
   "cell_type": "code",
   "execution_count": null,
   "metadata": {},
   "outputs": [],
   "source": [
    "%load_ext autoreload\n",
    "%autoreload 2"
   ]
  },
  {
   "cell_type": "code",
   "execution_count": null,
   "metadata": {},
   "outputs": [],
   "source": [
    "cd ../src/"
   ]
  },
  {
   "attachments": {},
   "cell_type": "markdown",
   "metadata": {},
   "source": [
    "## Initialization"
   ]
  },
  {
   "attachments": {},
   "cell_type": "markdown",
   "metadata": {},
   "source": [
    "### Imports"
   ]
  },
  {
   "cell_type": "code",
   "execution_count": null,
   "metadata": {},
   "outputs": [],
   "source": [
    "import os\n",
    "import sys\n",
    "import cv2\n",
    "import glob\n",
    "import json\n",
    "import numpy as np\n",
    "import pandas as pd\n",
    "import seaborn as sns\n",
    "import matplotlib.pyplot as plt\n",
    "\n",
    "from tqdm import tqdm\n",
    "from sklearn.linear_model import *\n",
    "\n",
    "pd.set_option('display.width', 500)\n",
    "pd.set_option('max_colwidth', 100)"
   ]
  },
  {
   "cell_type": "code",
   "execution_count": null,
   "metadata": {},
   "outputs": [],
   "source": [
    "from util.plots import *\n",
    "from params import *\n",
    "from data.preparation import load_record, get_false_color_img"
   ]
  },
  {
   "attachments": {},
   "cell_type": "markdown",
   "metadata": {},
   "source": [
    "## Data"
   ]
  },
  {
   "cell_type": "code",
   "execution_count": null,
   "metadata": {},
   "outputs": [],
   "source": [
    "BASE_DIR = '../input/train/'\n",
    "\n",
    "N_TIMES_BEFORE = 4\n",
    "\n",
    "record_id = '1704010292581573769'"
   ]
  },
  {
   "cell_type": "code",
   "execution_count": null,
   "metadata": {},
   "outputs": [],
   "source": [
    "bands, masks = load_record(record_id, folder=\"../input/train/\")"
   ]
  },
  {
   "cell_type": "code",
   "execution_count": null,
   "metadata": {},
   "outputs": [],
   "source": [
    "masks.keys(), bands.keys()"
   ]
  },
  {
   "cell_type": "code",
   "execution_count": null,
   "metadata": {},
   "outputs": [],
   "source": [
    "mask = masks['human_pixel_masks']"
   ]
  },
  {
   "cell_type": "code",
   "execution_count": null,
   "metadata": {},
   "outputs": [],
   "source": [
    "bands, masks = load_record(record_id, folder=\"../input/train/\")\n",
    "\n",
    "false_color = get_false_color_img(bands)\n",
    "\n",
    "plot_sample(false_color[..., 4], mask)"
   ]
  },
  {
   "attachments": {},
   "cell_type": "markdown",
   "metadata": {},
   "source": [
    "## Loop"
   ]
  },
  {
   "cell_type": "code",
   "execution_count": null,
   "metadata": {},
   "outputs": [],
   "source": [
    "folders = glob.glob(DATA_PATH + \"train/*\") + glob.glob(DATA_PATH + \"validation/*\")"
   ]
  },
  {
   "cell_type": "code",
   "execution_count": null,
   "metadata": {},
   "outputs": [],
   "source": [
    "SAVE = True\n",
    "PLOT = False"
   ]
  },
  {
   "cell_type": "code",
   "execution_count": null,
   "metadata": {},
   "outputs": [],
   "source": [
    "SAVE_FOLDER = \"../input/false_color/\"\n",
    "if SAVE:\n",
    "    os.makedirs(SAVE_FOLDER, exist_ok=True)\n",
    "    os.makedirs(SAVE_FOLDER + \"img/\", exist_ok=True)\n",
    "    os.makedirs(SAVE_FOLDER + \"mask/\", exist_ok=True)"
   ]
  },
  {
   "cell_type": "code",
   "execution_count": null,
   "metadata": {},
   "outputs": [],
   "source": [
    "metadata = []\n",
    "for i, folder in enumerate(tqdm(folders)):\n",
    "    record_id = folder.split('/')[-1]\n",
    "    img_path = SAVE_FOLDER + \"img/\" + record_id + \".png\"\n",
    "    mask_path = SAVE_FOLDER + \"mask/\" + record_id + \".png\"\n",
    "\n",
    "    bands, masks = load_record(folder, folder=\"\")\n",
    "\n",
    "    \n",
    "    false_color = get_false_color_img(bands)\n",
    "    img = false_color[..., 4]\n",
    "    \n",
    "    h, w = img.shape[:2]\n",
    "    mask = masks['human_pixel_masks']\n",
    "\n",
    "    if PLOT or not ((i + 1) % 1000):\n",
    "        plot_sample(img, mask)\n",
    "\n",
    "    if SAVE:\n",
    "        cv2.imwrite(img_path, (img * 255).astype(np.uint8))\n",
    "        cv2.imwrite(mask_path, mask.astype(np.uint8))\n",
    "    \n",
    "    metadata.append({\n",
    "        \"record_id\": record_id,\n",
    "        \"folder\": folder + \"/\",\n",
    "        \"h\": h,\n",
    "        \"w\": w,\n",
    "        \"has_contrail\": mask.sum() > 0,\n",
    "        \"img_path\": img_path,\n",
    "        \"mask_path\": mask_path,\n",
    "    })\n",
    "\n",
    "    # if i > 20:\n",
    "    #     break"
   ]
  },
  {
   "cell_type": "code",
   "execution_count": null,
   "metadata": {},
   "outputs": [],
   "source": [
    "df = pd.DataFrame(metadata)\n",
    "df.to_csv(SAVE_FOLDER + \"df.csv\", index=False)\n",
    "df.head()"
   ]
  },
  {
   "cell_type": "code",
   "execution_count": null,
   "metadata": {},
   "outputs": [],
   "source": [
    "len(df), len(os.listdir(SAVE_FOLDER + \"mask/\")), len(os.listdir(SAVE_FOLDER + \"img/\"))"
   ]
  },
  {
   "attachments": {},
   "cell_type": "markdown",
   "metadata": {},
   "source": [
    "Done ! "
   ]
  }
 ],
 "metadata": {
  "kernelspec": {
   "display_name": "Python 3 (ipykernel)",
   "language": "python",
   "name": "python3"
  },
  "language_info": {
   "codemirror_mode": {
    "name": "ipython",
    "version": 3
   },
   "file_extension": ".py",
   "mimetype": "text/x-python",
   "name": "python",
   "nbconvert_exporter": "python",
   "pygments_lexer": "ipython3",
   "version": "3.10.6"
  },
  "vscode": {
   "interpreter": {
    "hash": "f7241b2af102f7e024509099765066b36197b195077f7bfac6e5bc041ba17c8c"
   }
  }
 },
 "nbformat": 4,
 "nbformat_minor": 4
}
