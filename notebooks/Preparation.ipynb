{
 "cells": [
  {
   "cell_type": "markdown",
   "metadata": {},
   "source": [
    "**About** : This notebook is used to prepare the data."
   ]
  },
  {
   "cell_type": "code",
   "execution_count": null,
   "metadata": {},
   "outputs": [],
   "source": [
    "%load_ext autoreload\n",
    "%autoreload 2"
   ]
  },
  {
   "cell_type": "code",
   "execution_count": null,
   "metadata": {},
   "outputs": [],
   "source": [
    "cd ../src/"
   ]
  },
  {
   "cell_type": "markdown",
   "metadata": {},
   "source": [
    "## Initialization"
   ]
  },
  {
   "cell_type": "markdown",
   "metadata": {},
   "source": [
    "### Imports"
   ]
  },
  {
   "cell_type": "code",
   "execution_count": null,
   "metadata": {},
   "outputs": [],
   "source": [
    "import os\n",
    "import sys\n",
    "import cv2\n",
    "import glob\n",
    "import json\n",
    "import numpy as np\n",
    "import pandas as pd\n",
    "import seaborn as sns\n",
    "import matplotlib.pyplot as plt\n",
    "\n",
    "from tqdm import tqdm\n",
    "from sklearn.linear_model import *\n",
    "\n",
    "pd.set_option('display.width', 500)\n",
    "pd.set_option('max_colwidth', 100)"
   ]
  },
  {
   "cell_type": "code",
   "execution_count": null,
   "metadata": {},
   "outputs": [],
   "source": [
    "from util.plots import *\n",
    "from params import *\n",
    "from data.preparation import load_record, get_false_color_img"
   ]
  },
  {
   "cell_type": "markdown",
   "metadata": {},
   "source": [
    "## Data"
   ]
  },
  {
   "cell_type": "code",
   "execution_count": null,
   "metadata": {},
   "outputs": [],
   "source": [
    "BASE_DIR = '../input/train/'\n",
    "\n",
    "N_TIMES_BEFORE = 4\n",
    "\n",
    "record_id = '1704010292581573769'"
   ]
  },
  {
   "cell_type": "code",
   "execution_count": null,
   "metadata": {},
   "outputs": [],
   "source": [
    "bands, masks = load_record(record_id, folder=\"../input/train/\")"
   ]
  },
  {
   "cell_type": "code",
   "execution_count": null,
   "metadata": {},
   "outputs": [],
   "source": [
    "masks.keys(), bands.keys()"
   ]
  },
  {
   "cell_type": "code",
   "execution_count": null,
   "metadata": {},
   "outputs": [],
   "source": [
    "mask = masks['human_pixel_masks']"
   ]
  },
  {
   "cell_type": "code",
   "execution_count": null,
   "metadata": {},
   "outputs": [],
   "source": [
    "bands, masks = load_record(record_id, folder=\"../input/train/\")\n",
    "\n",
    "false_color = get_false_color_img(bands)\n",
    "\n",
    "plot_sample(false_color[..., 4], mask)"
   ]
  },
  {
   "cell_type": "markdown",
   "metadata": {},
   "source": [
    "### Metadata"
   ]
  },
  {
   "cell_type": "code",
   "execution_count": null,
   "metadata": {},
   "outputs": [],
   "source": [
    "train_meta = json.load(open(DATA_PATH + \"train_metadata.json\"))\n",
    "val_meta = json.load(open(DATA_PATH + \"validation_metadata.json\"))"
   ]
  },
  {
   "cell_type": "code",
   "execution_count": null,
   "metadata": {},
   "outputs": [],
   "source": [
    "df_meta = pd.concat([\n",
    "    pd.DataFrame(train_meta),\n",
    "    pd.DataFrame(val_meta),\n",
    "], ignore_index=True)"
   ]
  },
  {
   "cell_type": "code",
   "execution_count": null,
   "metadata": {},
   "outputs": [],
   "source": [
    "df_meta['timestamp'][0]"
   ]
  },
  {
   "cell_type": "code",
   "execution_count": null,
   "metadata": {},
   "outputs": [],
   "source": [
    "ts = pd.Timestamp(1571008800* 1e9)"
   ]
  },
  {
   "cell_type": "code",
   "execution_count": null,
   "metadata": {},
   "outputs": [],
   "source": [
    "ts"
   ]
  },
  {
   "cell_type": "code",
   "execution_count": null,
   "metadata": {},
   "outputs": [],
   "source": [
    "ts.date()"
   ]
  },
  {
   "cell_type": "code",
   "execution_count": null,
   "metadata": {},
   "outputs": [],
   "source": [
    "df_meta['timestamp'] = df_meta['timestamp'].apply(lambda x: pd.Timestamp(x * 1e9))"
   ]
  },
  {
   "cell_type": "code",
   "execution_count": null,
   "metadata": {},
   "outputs": [],
   "source": [
    "df_meta['date'] = df_meta['timestamp'].apply(lambda x: x.date())\n",
    "df_meta['hour'] = df_meta['timestamp'].apply(lambda x: x.hour)"
   ]
  },
  {
   "cell_type": "code",
   "execution_count": null,
   "metadata": {},
   "outputs": [],
   "source": [
    "df_meta"
   ]
  },
  {
   "cell_type": "code",
   "execution_count": null,
   "metadata": {},
   "outputs": [],
   "source": [
    "pd.Timestamp(df_meta['timestamp'][0])"
   ]
  },
  {
   "cell_type": "code",
   "execution_count": null,
   "metadata": {},
   "outputs": [],
   "source": [
    "df_dup = df_meta[df_meta.duplicated(subset=[\"projection_wkt\", \"row_min\", \"row_size\", \"col_min\", \"col_size\", \"date\", \"hour\"], keep=False)].reset_index(drop=True)"
   ]
  },
  {
   "cell_type": "code",
   "execution_count": null,
   "metadata": {},
   "outputs": [],
   "source": [
    "df_dup[df_dup['row_min'] == df_dup['row_min'][0]]"
   ]
  },
  {
   "cell_type": "code",
   "execution_count": null,
   "metadata": {},
   "outputs": [],
   "source": [
    "record_id = \"3029407526724839139\"\n",
    "\n",
    "bands, masks = load_record(record_id, folder=\"../input/train/\")\n",
    "\n",
    "mask = masks['human_pixel_masks']\n",
    "false_color = get_false_color_img(bands)\n",
    "\n",
    "plot_sample(false_color[..., 4], mask)"
   ]
  },
  {
   "cell_type": "code",
   "execution_count": null,
   "metadata": {},
   "outputs": [],
   "source": [
    "record_id = \"1009826116837013927\"\n",
    "\n",
    "bands, masks = load_record(record_id, folder=\"../input/train/\")\n",
    "\n",
    "mask = masks['human_pixel_masks']\n",
    "false_color = get_false_color_img(bands)\n",
    "\n",
    "plot_sample(false_color[..., 4], mask)"
   ]
  },
  {
   "cell_type": "markdown",
   "metadata": {},
   "source": [
    "### Reg"
   ]
  },
  {
   "cell_type": "code",
   "execution_count": null,
   "metadata": {},
   "outputs": [],
   "source": [
    "record_id = '1704010292581573769'"
   ]
  },
  {
   "cell_type": "code",
   "execution_count": null,
   "metadata": {},
   "outputs": [],
   "source": [
    "bands, masks = load_record(record_id, folder=\"../input/train/\")\n",
    "mask = masks['human_pixel_masks']"
   ]
  },
  {
   "cell_type": "code",
   "execution_count": null,
   "metadata": {},
   "outputs": [],
   "source": [
    "mask = masks['human_pixel_masks']"
   ]
  },
  {
   "cell_type": "code",
   "execution_count": null,
   "metadata": {},
   "outputs": [],
   "source": [
    "x = np.array(list(bands.values()))[..., 4].reshape(9, -1).T\n",
    "x = (x - x.min(0, keepdims=True)) / (x.max(0, keepdims=True) - x.min(0, keepdims=True))"
   ]
  },
  {
   "cell_type": "code",
   "execution_count": null,
   "metadata": {},
   "outputs": [],
   "source": [
    "y = np.array(mask.flatten())"
   ]
  },
  {
   "cell_type": "code",
   "execution_count": null,
   "metadata": {},
   "outputs": [],
   "source": [
    "gens = []\n",
    "coefs = []"
   ]
  },
  {
   "cell_type": "code",
   "execution_count": null,
   "metadata": {},
   "outputs": [],
   "source": [
    "model = LinearRegression()\n",
    "model.fit(x, y)\n",
    "\n",
    "coefs.append(model.coef_)\n",
    "print(\"Coefs\", dict(zip(bands.keys(), np.round(model.coef_, 4))))\n",
    "\n",
    "gen = (x * model.coef_[None]).sum(-1)\n",
    "gen = gen.reshape(256, 256)\n",
    "gen = normalize_range(gen)\n",
    "# \n",
    "gens.append(gen)\n",
    "\n",
    "gen = np.array([gen, gen, gen]).transpose(1, 2, 0)"
   ]
  },
  {
   "cell_type": "code",
   "execution_count": null,
   "metadata": {},
   "outputs": [],
   "source": [
    "plot_sample(gen, mask)"
   ]
  },
  {
   "cell_type": "code",
   "execution_count": null,
   "metadata": {},
   "outputs": [],
   "source": [
    "model = Ridge(alpha=1, max_iter=10000)\n",
    "model.fit(x, y)\n",
    "\n",
    "coefs.append(model.coef_)\n",
    "print(\"Coefs\", dict(zip(bands.keys(), np.round(model.coef_, 4))))\n",
    "\n",
    "gen = (x * model.coef_[None]).sum(-1)\n",
    "gen = gen.reshape(256, 256)\n",
    "gen = normalize_range(gen)\n",
    "\n",
    "gens.append(gen)\n",
    "gen = np.array([gen, gen, gen]).transpose(1, 2, 0)"
   ]
  },
  {
   "cell_type": "code",
   "execution_count": null,
   "metadata": {},
   "outputs": [],
   "source": [
    "plot_sample(gen, mask)"
   ]
  },
  {
   "cell_type": "code",
   "execution_count": null,
   "metadata": {},
   "outputs": [],
   "source": [
    "model = Lasso(alpha=0.001, max_iter=10000)\n",
    "model.fit(x, y)\n",
    "\n",
    "coefs.append(model.coef_)\n",
    "print(\"Coefs\", dict(zip(bands.keys(), np.round(model.coef_, 8))))\n",
    "\n",
    "gen = (x * model.coef_[None]).sum(-1)\n",
    "gen = gen.reshape(256, 256)\n",
    "gen = normalize_range(gen)\n",
    "\n",
    "gens.append(gen)\n",
    "gen = np.array([gen, gen, gen]).transpose(1, 2, 0)"
   ]
  },
  {
   "cell_type": "code",
   "execution_count": null,
   "metadata": {},
   "outputs": [],
   "source": [
    "plot_sample(gen, mask)"
   ]
  },
  {
   "cell_type": "code",
   "execution_count": null,
   "metadata": {},
   "outputs": [],
   "source": [
    "for c in coefs:\n",
    "    plt.scatter(bands.keys(), c, marker=\"x\")\n",
    "plt.show()"
   ]
  },
  {
   "cell_type": "code",
   "execution_count": null,
   "metadata": {},
   "outputs": [],
   "source": [
    "# np.save(\"../output/coefs.npy\", np.array(coefs))"
   ]
  },
  {
   "cell_type": "code",
   "execution_count": null,
   "metadata": {},
   "outputs": [],
   "source": [
    "x = np.array(list(bands.values()))[..., 4].reshape(9, -1).T\n",
    "x = (x - x.min(0, keepdims=True)) / (x.max(0, keepdims=True) - x.min(0, keepdims=True))"
   ]
  },
  {
   "cell_type": "code",
   "execution_count": null,
   "metadata": {},
   "outputs": [],
   "source": [
    "hw = int(np.sqrt(x.shape[0]))\n",
    "gen_ = np.matmul(x, np.array(coefs).T) \n",
    "gen_ = (gen_ - gen_.min(0, keepdims=True)) / (gen_.max(0, keepdims=True) - gen_.min(0, keepdims=True))\n",
    "gen_ = gen_.reshape(hw, hw, -1)"
   ]
  },
  {
   "cell_type": "code",
   "execution_count": null,
   "metadata": {},
   "outputs": [],
   "source": [
    "plot_sample(gen_, mask)"
   ]
  },
  {
   "cell_type": "markdown",
   "metadata": {},
   "source": [
    "#### Inf"
   ]
  },
  {
   "cell_type": "code",
   "execution_count": null,
   "metadata": {},
   "outputs": [],
   "source": [
    "coefs = np.load(\"../output/coefs.npy\")"
   ]
  },
  {
   "cell_type": "code",
   "execution_count": null,
   "metadata": {},
   "outputs": [],
   "source": [
    "for c in coefs:\n",
    "    plt.scatter(bands.keys(), c, marker=\"x\")\n",
    "plt.show()"
   ]
  },
  {
   "cell_type": "code",
   "execution_count": null,
   "metadata": {},
   "outputs": [],
   "source": [
    "record_id = np.random.choice(os.listdir(BASE_DIR))\n",
    "bands, masks = load_record(record_id, folder=\"../input/train/\")\n",
    "mask = masks['human_pixel_masks']\n",
    "\n",
    "while not mask.sum():\n",
    "    record_id = np.random.choice(os.listdir(BASE_DIR))\n",
    "    bands, masks = load_record(record_id, folder=\"../input/train/\")\n",
    "    mask = masks['human_pixel_masks']\n",
    "\n",
    "print(record_id)"
   ]
  },
  {
   "cell_type": "code",
   "execution_count": null,
   "metadata": {},
   "outputs": [],
   "source": [
    "def apply_coefs(bands, coefs):\n",
    "    x = np.array(list(bands.values()))[..., 4].reshape(9, -1).T\n",
    "    x = (x - x.min(0, keepdims=True)) / (x.max(0, keepdims=True) - x.min(0, keepdims=True))\n",
    "\n",
    "    hw = int(np.sqrt(x.shape[0]))\n",
    "    gen_ = np.matmul(x, np.array(coefs).T) \n",
    "    gen_ = (gen_ - gen_.min(0, keepdims=True)) / (gen_.max(0, keepdims=True) - gen_.min(0, keepdims=True))\n",
    "    gen_ = gen_.reshape(hw, hw, -1)\n",
    "    \n",
    "    return gen_"
   ]
  },
  {
   "cell_type": "code",
   "execution_count": null,
   "metadata": {},
   "outputs": [],
   "source": [
    "gen_ = apply_coefs(bands, coefs)"
   ]
  },
  {
   "cell_type": "code",
   "execution_count": null,
   "metadata": {},
   "outputs": [],
   "source": [
    "# for i in range(3):\n",
    "#     plot_sample(np.array([gen_[:, :, i], gen_[:, :, i], gen_[:, :, i]]).transpose(1, 2, 0), mask)"
   ]
  },
  {
   "cell_type": "code",
   "execution_count": null,
   "metadata": {},
   "outputs": [],
   "source": [
    "# plot_sample(gen_, mask)"
   ]
  },
  {
   "cell_type": "code",
   "execution_count": null,
   "metadata": {},
   "outputs": [],
   "source": [
    "# false_color = get_false_color_img(bands)\n",
    "# false_color = false_color[..., 4]\n",
    "\n",
    "# false_color = false_color.reshape(-1, 3)\n",
    "# false_color = (false_color - false_color.min(0, keepdims=True)) / (false_color.max(0, keepdims=True) - false_color.min(0, keepdims=True))\n",
    "# false_color = false_color.reshape(256, 256, 3)\n",
    "\n",
    "# for i in range(3):\n",
    "#     plot_sample(1 - np.array([false_color[:, :, i], false_color[:, :, i], false_color[:, :, i]]).transpose(1, 2, 0), mask)"
   ]
  },
  {
   "cell_type": "code",
   "execution_count": null,
   "metadata": {},
   "outputs": [],
   "source": [
    "# false_color = get_false_color_img(bands)\n",
    "\n",
    "# plot_sample(false_color[..., 4], mask)"
   ]
  },
  {
   "cell_type": "markdown",
   "metadata": {},
   "source": [
    "### Bands"
   ]
  },
  {
   "cell_type": "code",
   "execution_count": null,
   "metadata": {},
   "outputs": [],
   "source": [
    "# for k in bands.keys():\n",
    "#     print(f\"Band {k}\")\n",
    "#     img = normalize_range(bands[k][..., 4])\n",
    "#     img = np.array([img, img, img]).transpose(1, 2, 0)\n",
    "\n",
    "#     plot_sample(img, mask)\n",
    "# #     break"
   ]
  },
  {
   "cell_type": "markdown",
   "metadata": {},
   "source": [
    "## Loop"
   ]
  },
  {
   "cell_type": "code",
   "execution_count": null,
   "metadata": {},
   "outputs": [],
   "source": [
    "from params import *"
   ]
  },
  {
   "cell_type": "code",
   "execution_count": null,
   "metadata": {},
   "outputs": [],
   "source": [
    "folders = glob.glob(DATA_PATH + \"train/*\") + glob.glob(DATA_PATH + \"validation/*\")"
   ]
  },
  {
   "cell_type": "code",
   "execution_count": null,
   "metadata": {},
   "outputs": [],
   "source": [
    "SAVE = True\n",
    "PLOT = False"
   ]
  },
  {
   "cell_type": "code",
   "execution_count": null,
   "metadata": {},
   "outputs": [],
   "source": [
    "SAVE_FOLDER = \"../input/reg/\"\n",
    "if SAVE:\n",
    "    os.makedirs(SAVE_FOLDER, exist_ok=True)\n",
    "    os.makedirs(SAVE_FOLDER + \"img/\", exist_ok=True)\n",
    "    os.makedirs(SAVE_FOLDER + \"mask/\", exist_ok=True)"
   ]
  },
  {
   "cell_type": "code",
   "execution_count": null,
   "metadata": {},
   "outputs": [],
   "source": [
    "metadata = []\n",
    "for i, folder in enumerate(tqdm(folders)):\n",
    "    record_id = folder.split('/')[-1]\n",
    "    img_path = SAVE_FOLDER + \"img/\" + record_id + \".png\"\n",
    "    mask_path = SAVE_FOLDER + \"mask/\" + record_id + \".png\"\n",
    "    \n",
    "    if os.path.exists(img_path) and os.path.exists(mask_path):\n",
    "        mask = cv2.imread(mask_path, 0)[:, :, None]\n",
    "        img = cv2.imread(img_path)\n",
    "        h, w = img.shape[:2]\n",
    "    else:\n",
    "#         continue\n",
    "        bands, masks = load_record(folder, folder=\"\")\n",
    "    \n",
    "        img = apply_coefs(bands, coefs)\n",
    "        \n",
    "#         false_color = get_false_color_img(bands)\n",
    "#         img = false_color[..., 4]\n",
    "        \n",
    "        h, w = img.shape[:2]\n",
    "        mask = masks['human_pixel_masks']\n",
    "\n",
    "        if PLOT or not ((i + 1) % 1000):\n",
    "            plot_sample(img, mask)\n",
    "\n",
    "        if SAVE:\n",
    "            cv2.imwrite(img_path, (img * 255).astype(np.uint8))\n",
    "            cv2.imwrite(mask_path, mask.astype(np.uint8))\n",
    "    \n",
    "#     img = cv2.imread(img_path)\n",
    "#     mask = cv2.imread(mask_path, 0)[:, :, None]\n",
    "#     plot_sample(img, mask)\n",
    "    \n",
    "    metadata.append({\n",
    "        \"record_id\": record_id,\n",
    "        \"folder\": folder + \"/\",\n",
    "        \"h\": h,\n",
    "        \"w\": w,\n",
    "        \"has_contrail\": mask.sum() > 0,\n",
    "        \"img_path\": img_path,\n",
    "        \"mask_path\": mask_path,\n",
    "    })\n",
    "\n",
    "#     if i > 20:\n",
    "#         break"
   ]
  },
  {
   "cell_type": "code",
   "execution_count": null,
   "metadata": {},
   "outputs": [],
   "source": [
    "df = pd.DataFrame(metadata)\n",
    "df.to_csv(SAVE_FOLDER + \"df.csv\", index=False)\n",
    "df.head()"
   ]
  },
  {
   "cell_type": "code",
   "execution_count": null,
   "metadata": {},
   "outputs": [],
   "source": [
    "len(df), len(os.listdir(SAVE_FOLDER + \"mask/\")), len(os.listdir(SAVE_FOLDER + \"img/\"))"
   ]
  },
  {
   "cell_type": "code",
   "execution_count": null,
   "metadata": {},
   "outputs": [],
   "source": [
    "# sns.histplot(df.h)"
   ]
  },
  {
   "cell_type": "markdown",
   "metadata": {},
   "source": [
    "Done ! "
   ]
  }
 ],
 "metadata": {
  "kernelspec": {
   "display_name": "Python 3 (ipykernel)",
   "language": "python",
   "name": "python3"
  },
  "language_info": {
   "codemirror_mode": {
    "name": "ipython",
    "version": 3
   },
   "file_extension": ".py",
   "mimetype": "text/x-python",
   "name": "python",
   "nbconvert_exporter": "python",
   "pygments_lexer": "ipython3",
   "version": "3.10.6"
  },
  "vscode": {
   "interpreter": {
    "hash": "f7241b2af102f7e024509099765066b36197b195077f7bfac6e5bc041ba17c8c"
   }
  }
 },
 "nbformat": 4,
 "nbformat_minor": 4
}
