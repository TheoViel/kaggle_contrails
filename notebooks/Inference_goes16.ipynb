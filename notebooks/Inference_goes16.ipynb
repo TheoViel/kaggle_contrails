{
 "cells": [
  {
   "cell_type": "markdown",
   "metadata": {},
   "source": [
    "**About** : This notebook is used to validate models."
   ]
  },
  {
   "cell_type": "code",
   "execution_count": null,
   "metadata": {},
   "outputs": [],
   "source": [
    "# %load_ext nb_black\n",
    "%load_ext autoreload\n",
    "%autoreload 2"
   ]
  },
  {
   "cell_type": "code",
   "execution_count": null,
   "metadata": {},
   "outputs": [],
   "source": [
    "cd ../src/"
   ]
  },
  {
   "cell_type": "code",
   "execution_count": null,
   "metadata": {},
   "outputs": [],
   "source": [
    "%matplotlib inline"
   ]
  },
  {
   "cell_type": "markdown",
   "metadata": {},
   "source": [
    "## Initialization"
   ]
  },
  {
   "cell_type": "markdown",
   "metadata": {},
   "source": [
    "### Imports"
   ]
  },
  {
   "cell_type": "code",
   "execution_count": null,
   "metadata": {},
   "outputs": [],
   "source": [
    "import os\n",
    "import torch\n",
    "\n",
    "print(torch.__version__)\n",
    "os.environ['CUDA_VISIBLE_DEVICES'] = \"1\"\n",
    "device = torch.cuda.get_device_name(0)\n",
    "print(device)"
   ]
  },
  {
   "cell_type": "code",
   "execution_count": null,
   "metadata": {},
   "outputs": [],
   "source": [
    "import os\n",
    "import sys\n",
    "import glob\n",
    "import json\n",
    "import timm\n",
    "import torch\n",
    "import operator\n",
    "import warnings\n",
    "import numpy as np\n",
    "import pandas as pd\n",
    "import seaborn as sns\n",
    "import matplotlib.pyplot as plt\n",
    "\n",
    "from tqdm import tqdm\n",
    "from sklearn.metrics import *\n",
    "from collections import Counter\n",
    "from numerize.numerize import numerize\n",
    "\n",
    "pd.set_option('display.width', 500)\n",
    "pd.set_option('max_colwidth', 100)"
   ]
  },
  {
   "cell_type": "code",
   "execution_count": null,
   "metadata": {},
   "outputs": [],
   "source": [
    "from params import *\n",
    "from util.plots import *\n",
    "from inference_main import kfold_inference"
   ]
  },
  {
   "cell_type": "markdown",
   "metadata": {},
   "source": [
    "### Inference"
   ]
  },
  {
   "cell_type": "code",
   "execution_count": null,
   "metadata": {},
   "outputs": [],
   "source": [
    "EXP_FOLDER = \"../logs/2023-07-23/6/\"  # v2-s stride 1 single frame"
   ]
  },
  {
   "cell_type": "code",
   "execution_count": null,
   "metadata": {},
   "outputs": [],
   "source": [
    "df = pd.DataFrame({\"img_path\": glob.glob('../output/goes16_false_color_2/*.png')})"
   ]
  },
  {
   "cell_type": "code",
   "execution_count": null,
   "metadata": {},
   "outputs": [],
   "source": [
    "df['record_id'] = df['img_path'].apply(lambda x: x.split('/')[-1][:-4])"
   ]
  },
  {
   "cell_type": "code",
   "execution_count": null,
   "metadata": {},
   "outputs": [],
   "source": [
    "df['mask_path'] = df['img_path']\n",
    "df['folder'] = \"\"\n",
    "df['has_contrail'] = \"\""
   ]
  },
  {
   "cell_type": "code",
   "execution_count": null,
   "metadata": {},
   "outputs": [],
   "source": [
    "preds = kfold_inference(df, EXP_FOLDER, use_fp16=True, save=False, batch_size=4)"
   ]
  },
  {
   "cell_type": "code",
   "execution_count": null,
   "metadata": {},
   "outputs": [],
   "source": [
    "masks = preds[0][:, 0]"
   ]
  },
  {
   "cell_type": "code",
   "execution_count": null,
   "metadata": {},
   "outputs": [],
   "source": [
    "PLOT = False\n",
    "SAVE = True\n",
    "\n",
    "m = 10"
   ]
  },
  {
   "cell_type": "code",
   "execution_count": null,
   "metadata": {},
   "outputs": [],
   "source": [
    "SAVE_FOLDER = \"../output/goes16_pl/\"\n",
    "\n",
    "os.makedirs(SAVE_FOLDER, exist_ok=True)\n",
    "os.makedirs(SAVE_FOLDER + \"images/\", exist_ok=True)\n",
    "os.makedirs(SAVE_FOLDER + \"masks/\", exist_ok=True)"
   ]
  },
  {
   "cell_type": "code",
   "execution_count": null,
   "metadata": {},
   "outputs": [],
   "source": [
    "for i in tqdm(range(len(df))):\n",
    "    img = cv2.imread(df['img_path'][i])\n",
    "    \n",
    "    probs = masks[i][:img.shape[0], :img.shape[1]]\n",
    "    mask = (probs > 0.5).astype(int)\n",
    "    \n",
    "    if mask.sum() < 100:  # Not enough pixels\n",
    "        continue\n",
    "\n",
    "    # Crop\n",
    "    x0 = np.argmax(((mask > 0).sum(1) > 5))\n",
    "    x1 = mask.shape[0] - np.argmax(((mask > 0).sum(1) > 5)[::-1])\n",
    "    y0 = np.argmax(((mask > 0).sum(0) > 5))\n",
    "    y1 = mask.shape[1] - np.argmax(((mask > 0).sum(0) > 5)[::-1])\n",
    "\n",
    "    x0 = max(x0 - m, 0)\n",
    "    y0 = max(y0 - m, 0)\n",
    "    x1 = min(x1 + m, mask.shape[0])\n",
    "    y1 = min(y1 + m, mask.shape[1])\n",
    "    \n",
    "    img_f = img[x0: x1, y0: y1]\n",
    "    probs_f = probs[x0: x1, y0: y1]\n",
    "    mask_f = mask[x0: x1, y0: y1]\n",
    "\n",
    "    if PLOT:  #  or not (i % 400):\n",
    "        hw = min(img_f.shape[0], img_f.shape[1])\n",
    "        plot_sample(img_f[:hw, :hw], mask_f[:hw, :hw, None], n=2, figsize=(20, 10))\n",
    "        \n",
    "    if img_f.shape[0] < 256:\n",
    "        continue\n",
    "    elif img_f.shape[1] < 256:\n",
    "        continue\n",
    "    \n",
    "    if SAVE:\n",
    "        np.save(SAVE_FOLDER + \"masks/\" + df['record_id'][i] + \".npy\", probs_f)\n",
    "        cv2.imwrite(SAVE_FOLDER + \"images/\" + df['record_id'][i] + \".png\", img_f)\n",
    "    \n",
    "#     break"
   ]
  },
  {
   "cell_type": "code",
   "execution_count": null,
   "metadata": {},
   "outputs": [],
   "source": [
    "for i in tqdm(range(len(df))):\n",
    "    \n",
    "    try:\n",
    "        mask = np.load(SAVE_FOLDER + \"masks/\" + df['record_id'][i] + \".npy\")\n",
    "        img = cv2.imread(SAVE_FOLDER + \"images/\" + df['record_id'][i] + \".png\")\n",
    "    except:\n",
    "        continue\n",
    "    \n",
    "    assert img.shape[:2] == mask.shape"
   ]
  },
  {
   "cell_type": "code",
   "execution_count": null,
   "metadata": {},
   "outputs": [],
   "source": [
    "df = pd.DataFrame({\n",
    "    \"img_path\": sorted(glob.glob(SAVE_FOLDER + 'images/*.png')),\n",
    "    \"mask_path\": sorted(glob.glob(SAVE_FOLDER + 'masks/*.npy')),\n",
    "})\n",
    "\n",
    "df['record_id'] = df['img_path'].apply(lambda x: x.split('/')[-1][:-4])\n",
    "df['folder'] = \"\"\n",
    "df['has_contrail'] = True\n",
    "\n",
    "# df.to_csv('../output/df_goes16_may.csv', index=False)"
   ]
  },
  {
   "cell_type": "markdown",
   "metadata": {},
   "source": [
    "### Results"
   ]
  },
  {
   "cell_type": "code",
   "execution_count": null,
   "metadata": {},
   "outputs": [],
   "source": [
    "from data.dataset import ContrailDataset\n",
    "from data.transforms import get_transfos"
   ]
  },
  {
   "cell_type": "code",
   "execution_count": null,
   "metadata": {},
   "outputs": [],
   "source": [
    "dataset = ContrailDataset(df, transforms=get_transfos(crop=True))"
   ]
  },
  {
   "cell_type": "code",
   "execution_count": null,
   "metadata": {},
   "outputs": [],
   "source": [
    "img, mask, _ = dataset[0]"
   ]
  },
  {
   "cell_type": "code",
   "execution_count": null,
   "metadata": {},
   "outputs": [],
   "source": [
    "for idx in np.random.choice(len(dataset), 3):\n",
    "    image, mask, y = dataset[idx]\n",
    "\n",
    "    if len(image.size()) == 3:\n",
    "        plot_sample(image.numpy().transpose(1, 2, 0), mask[:1].numpy().transpose(1, 2, 0) > 0.5)\n",
    "    else:\n",
    "        plot_sample(image[0].numpy().transpose(1, 2, 0).copy(), mask[:1].numpy().transpose(1, 2, 0) > 0.5)\n",
    "#         plot_sample(image[4].numpy().transpose(1, 2, 0).copy(), mask[:1].numpy().transpose(1, 2, 0))\n",
    "\n",
    "    break"
   ]
  },
  {
   "cell_type": "markdown",
   "metadata": {},
   "source": [
    "Done ! "
   ]
  }
 ],
 "metadata": {
  "kernelspec": {
   "display_name": "Python 3 (ipykernel)",
   "language": "python",
   "name": "python3"
  },
  "language_info": {
   "codemirror_mode": {
    "name": "ipython",
    "version": 3
   },
   "file_extension": ".py",
   "mimetype": "text/x-python",
   "name": "python",
   "nbconvert_exporter": "python",
   "pygments_lexer": "ipython3",
   "version": "3.10.6"
  },
  "vscode": {
   "interpreter": {
    "hash": "f7241b2af102f7e024509099765066b36197b195077f7bfac6e5bc041ba17c8c"
   }
  }
 },
 "nbformat": 4,
 "nbformat_minor": 4
}
