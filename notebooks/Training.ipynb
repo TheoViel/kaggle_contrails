{
 "cells": [
  {
   "cell_type": "markdown",
   "metadata": {},
   "source": [
    "**About** : This notebook is used to train models."
   ]
  },
  {
   "cell_type": "code",
   "execution_count": null,
   "metadata": {},
   "outputs": [],
   "source": [
    "# %load_ext nb_black\n",
    "%load_ext autoreload\n",
    "%autoreload 2"
   ]
  },
  {
   "cell_type": "code",
   "execution_count": null,
   "metadata": {},
   "outputs": [],
   "source": [
    "cd ../src/"
   ]
  },
  {
   "cell_type": "markdown",
   "metadata": {},
   "source": [
    "## Initialization"
   ]
  },
  {
   "cell_type": "markdown",
   "metadata": {},
   "source": [
    "### Imports"
   ]
  },
  {
   "cell_type": "code",
   "execution_count": null,
   "metadata": {},
   "outputs": [],
   "source": [
    "import os\n",
    "import torch\n",
    "\n",
    "print(torch.__version__)\n",
    "os.environ['CUDA_VISIBLE_DEVICES'] = \"1\"\n",
    "device = torch.cuda.get_device_name(0)\n",
    "print(device)"
   ]
  },
  {
   "cell_type": "code",
   "execution_count": null,
   "metadata": {},
   "outputs": [],
   "source": [
    "import os\n",
    "import sys\n",
    "import glob\n",
    "import json\n",
    "import timm\n",
    "import torch\n",
    "import operator\n",
    "import warnings\n",
    "import numpy as np\n",
    "import pandas as pd\n",
    "import seaborn as sns\n",
    "import matplotlib.pyplot as plt\n",
    "\n",
    "from tqdm import tqdm\n",
    "from sklearn.metrics import *\n",
    "from numerize.numerize import numerize\n",
    "\n",
    "pd.set_option('display.width', 500)\n",
    "pd.set_option('max_colwidth', 100)"
   ]
  },
  {
   "cell_type": "code",
   "execution_count": null,
   "metadata": {},
   "outputs": [],
   "source": [
    "from util.logger import (\n",
    "    prepare_log_folder,\n",
    "    save_config,\n",
    "    create_logger,\n",
    "    init_neptune\n",
    ")\n",
    "\n",
    "from params import *\n",
    "from util.plots import *\n",
    "from data.dataset import *\n",
    "from data.transforms import get_transfos\n",
    "from data.preparation import *\n",
    "from util.torch import init_distributed, count_parameters, load_model_weights, count_parameters\n",
    "from util.plots import plot_sample\n",
    "from model_zoo.models import define_model\n",
    "\n",
    "\n",
    "from training.main import k_fold"
   ]
  },
  {
   "cell_type": "markdown",
   "metadata": {},
   "source": [
    "## Data"
   ]
  },
  {
   "cell_type": "code",
   "execution_count": null,
   "metadata": {},
   "outputs": [],
   "source": [
    "# df_split = prepare_folds()"
   ]
  },
  {
   "cell_type": "code",
   "execution_count": null,
   "metadata": {},
   "outputs": [],
   "source": [
    "df = prepare_data(DATA_PATH, processed_folder=\"false_color/\", use_raw=True)"
   ]
  },
  {
   "cell_type": "code",
   "execution_count": null,
   "metadata": {},
   "outputs": [],
   "source": [
    "if \"fold\" not in df.columns:\n",
    "    folds = pd.read_csv(DATA_PATH + \"folds_4.csv\")\n",
    "    df = df.merge(folds)"
   ]
  },
  {
   "cell_type": "code",
   "execution_count": null,
   "metadata": {},
   "outputs": [],
   "source": [
    "df['fold'].value_counts()"
   ]
  },
  {
   "cell_type": "markdown",
   "metadata": {},
   "source": [
    "### Dataset"
   ]
  },
  {
   "cell_type": "code",
   "execution_count": null,
   "metadata": {},
   "outputs": [],
   "source": [
    "df = df[df['has_contrail']].reset_index(drop=True)"
   ]
  },
  {
   "cell_type": "code",
   "execution_count": null,
   "metadata": {},
   "outputs": [],
   "source": [
    "transfos =  get_transfos(strength=0)\n",
    "dataset = ContrailDataset(df, transfos, use_soft_mask=False, use_shape_descript=False, use_pl_masks=False, frames=[0, 1, 2, 3, 4])\n",
    "\n",
    "transfos"
   ]
  },
  {
   "cell_type": "code",
   "execution_count": null,
   "metadata": {},
   "outputs": [],
   "source": [
    "for idx in np.random.choice(len(dataset), 3):\n",
    "    idx = 4\n",
    "    image, mask, y = dataset[idx]\n",
    "    \n",
    "    if len(image.size()) == 3:\n",
    "        plot_sample(image.numpy().transpose(1, 2, 0), mask[:1].numpy().transpose(1, 2, 0))\n",
    "    else:\n",
    "        plot_sample(image[0].numpy().transpose(1, 2, 0).copy(), mask[:1].numpy().transpose(1, 2, 0))\n",
    "#         plot_sample(image[4].numpy().transpose(1, 2, 0).copy(), mask[:1].numpy().transpose(1, 2, 0))\n",
    "\n",
    "    break"
   ]
  },
  {
   "cell_type": "code",
   "execution_count": null,
   "metadata": {},
   "outputs": [],
   "source": [
    "# for _ in range(5):\n",
    "#     idx = np.random.choice(len(dataset))\n",
    "#     image, mask, y = dataset[idx]\n",
    "\n",
    "#     plt.figure(figsize=(20, 4))\n",
    "#     for i, a in enumerate(mask[1:]):\n",
    "#         plt.subplot(1, 6, i + 1)\n",
    "#         plt.imshow(a.numpy())\n",
    "#         plt.title(f'{a.max().item():.3f}')\n",
    "#         plt.axis(False)\n",
    "#     plt.show()"
   ]
  },
  {
   "cell_type": "markdown",
   "metadata": {},
   "source": [
    "## Model"
   ]
  },
  {
   "cell_type": "code",
   "execution_count": null,
   "metadata": {},
   "outputs": [],
   "source": [
    "model = define_model(\n",
    "    \"Unet\",\n",
    "    \"tf_efficientnetv2_s\",\n",
    "    use_cls=False,\n",
    "    use_hypercolumns=False,\n",
    "    reduce_stride=1,\n",
    "    center=\"none\",\n",
    "    use_lstm=False,\n",
    "    use_cnn=False,\n",
    "#     pretrained_weights=\"../logs/2023-07-07/8/Unet_tf_efficientnetv2_s_0.pt\",\n",
    "    verbose=1,\n",
    "    frames=[0, 1, 2, 3, 4],\n",
    "    kernel_size=(5, 3, 3),\n",
    "    use_transfo=True\n",
    ")"
   ]
  },
  {
   "cell_type": "code",
   "execution_count": null,
   "metadata": {},
   "outputs": [],
   "source": [
    "count_parameters(model)"
   ]
  },
  {
   "cell_type": "code",
   "execution_count": null,
   "metadata": {},
   "outputs": [],
   "source": [
    "image, mask, y = dataset[0]\n",
    "\n",
    "try:\n",
    "    x = image.unsqueeze(0).repeat(2, 1, 1, 1)\n",
    "except:\n",
    "    x = image.unsqueeze(0).repeat(2, 1, 1, 1, 1)\n",
    "    \n",
    "# x = x[:, -1]"
   ]
  },
  {
   "cell_type": "code",
   "execution_count": null,
   "metadata": {},
   "outputs": [],
   "source": [
    "pred_mask, pred_cls = model(x)\n",
    "pred_mask.size(), pred_cls.size()"
   ]
  },
  {
   "cell_type": "code",
   "execution_count": null,
   "metadata": {},
   "outputs": [],
   "source": [
    "# # Find useless params\n",
    "\n",
    "# opt = torch.optim.Adam(model.parameters())\n",
    "# loss = pred_mask.mean()\n",
    "# loss.backward()\n",
    "# opt.step()\n",
    "# for name, param in model.named_parameters():\n",
    "#     if param.grad is None:\n",
    "#         print(name)\n",
    "    \n",
    "# opt.zero_grad()"
   ]
  },
  {
   "cell_type": "markdown",
   "metadata": {},
   "source": [
    "## Training"
   ]
  },
  {
   "cell_type": "code",
   "execution_count": null,
   "metadata": {},
   "outputs": [],
   "source": [
    "class Config:\n",
    "    \"\"\"\n",
    "    Parameters used for training\n",
    "    \"\"\"\n",
    "\n",
    "    # General\n",
    "    seed = 42\n",
    "    verbose = 1\n",
    "    device = \"cuda\"\n",
    "    save_weights = True\n",
    "\n",
    "    # Data\n",
    "    processed_folder = \"false_color/\"\n",
    "    size = 256\n",
    "    aug_strength = 3\n",
    "    use_soft_mask = True\n",
    "    use_shape_descript = True\n",
    "\n",
    "    # k-fold\n",
    "    k = 4\n",
    "    folds_file = f\"../input/folds_{k}.csv\"\n",
    "    selected_folds = [0] #, 1, 2, 3]\n",
    "\n",
    "    # Model\n",
    "    encoder_name = \"tf_efficientnetv2_s\"  # tf_efficientnetv2_s seresnext50_32x4d efficientnetv2_rw_t convnextv2_tiny convnextv2_nano\n",
    "    decoder_name = \"Unet\"\n",
    "\n",
    "    pretrained_weights = None\n",
    "    reduce_stride = 2\n",
    "    use_pixel_shuffle = False\n",
    "    use_hypercolumns = False\n",
    "    center = \"none\"\n",
    "    n_channels = 3\n",
    "    num_classes = 7 if use_shape_descript else 1\n",
    "\n",
    "    # Training\n",
    "    loss_config = {\n",
    "        \"name\": \"lovasz_bce\",  # bce lovasz_focal lovasz focal\n",
    "        \"smoothing\": 0.,\n",
    "        \"activation\": \"sigmoid\",\n",
    "        \"aux_loss_weight\": 0.,\n",
    "        \"activation_aux\": \"sigmoid\",\n",
    "        \"ousm_k\": 0,\n",
    "        \"shape_loss_w\": 1. if use_shape_descript else 0.\n",
    "    }\n",
    "\n",
    "    data_config = {\n",
    "        \"batch_size\": 8,\n",
    "        \"val_bs\": 16,\n",
    "        \"mix\": \"cutmix\",\n",
    "        \"mix_proba\": 0.5,\n",
    "        \"mix_alpha\": 5,\n",
    "        \"additive_mix\": True,\n",
    "        \"num_classes\": num_classes\n",
    "    }\n",
    "\n",
    "    optimizer_config = {\n",
    "        \"name\": \"AdamW\",\n",
    "        \"lr\": 2e-4,\n",
    "        \"lr_encoder\": 2e-4,\n",
    "        \"warmup_prop\": 0.05,\n",
    "        \"betas\": (0.9, 0.999),\n",
    "        \"max_grad_norm\": 1.0,\n",
    "        \"weight_decay\": 0.2,  # 0.05\n",
    "    }\n",
    "\n",
    "    epochs = 1\n",
    "    two_stage = False\n",
    "\n",
    "    use_fp16 = True\n",
    "    model_soup = False\n",
    "\n",
    "    verbose = 1\n",
    "    verbose_eval = 200\n",
    "\n",
    "    fullfit = False  # len(selected_folds) == 4\n",
    "    n_fullfit = 1"
   ]
  },
  {
   "cell_type": "code",
   "execution_count": null,
   "metadata": {},
   "outputs": [],
   "source": [
    "DEBUG = True\n",
    "log_folder = None\n",
    "run = None"
   ]
  },
  {
   "cell_type": "code",
   "execution_count": null,
   "metadata": {},
   "outputs": [],
   "source": [
    "if not DEBUG:\n",
    "    log_folder = prepare_log_folder(LOG_PATH)\n",
    "    print(f\"Logging results to {log_folder}\")\n",
    "    config_df = save_config(Config, log_folder + \"config.json\")\n",
    "    create_logger(directory=log_folder, name=\"logs.txt\")\n",
    "#     run = init_neptune(Config, log_folder)\n",
    "\n",
    "df = prepare_data(DATA_PATH, Config.processed_folder)\n",
    "init_distributed(Config)\n",
    "\n",
    "preds = k_fold(Config, df, log_folder=log_folder, run=run)"
   ]
  },
  {
   "cell_type": "markdown",
   "metadata": {},
   "source": [
    "Done ! "
   ]
  }
 ],
 "metadata": {
  "kernelspec": {
   "display_name": "Python 3 (ipykernel)",
   "language": "python",
   "name": "python3"
  },
  "language_info": {
   "codemirror_mode": {
    "name": "ipython",
    "version": 3
   },
   "file_extension": ".py",
   "mimetype": "text/x-python",
   "name": "python",
   "nbconvert_exporter": "python",
   "pygments_lexer": "ipython3",
   "version": "3.10.6"
  },
  "vscode": {
   "interpreter": {
    "hash": "f7241b2af102f7e024509099765066b36197b195077f7bfac6e5bc041ba17c8c"
   }
  }
 },
 "nbformat": 4,
 "nbformat_minor": 4
}
