{
 "cells": [
  {
   "cell_type": "markdown",
   "metadata": {},
   "source": [
    "**About** : This notebook is used to prepare the data."
   ]
  },
  {
   "cell_type": "code",
   "execution_count": null,
   "metadata": {},
   "outputs": [],
   "source": [
    "%load_ext autoreload\n",
    "%autoreload 2"
   ]
  },
  {
   "cell_type": "code",
   "execution_count": null,
   "metadata": {},
   "outputs": [],
   "source": [
    "cd ../src/"
   ]
  },
  {
   "cell_type": "markdown",
   "metadata": {},
   "source": [
    "## Initialization"
   ]
  },
  {
   "cell_type": "markdown",
   "metadata": {},
   "source": [
    "### Imports"
   ]
  },
  {
   "cell_type": "code",
   "execution_count": null,
   "metadata": {},
   "outputs": [],
   "source": [
    "import os\n",
    "import sys\n",
    "import cv2\n",
    "import glob\n",
    "import json\n",
    "import numpy as np\n",
    "import pandas as pd\n",
    "import seaborn as sns\n",
    "import matplotlib.pyplot as plt\n",
    "\n",
    "from tqdm import tqdm\n",
    "from sklearn.linear_model import *\n",
    "\n",
    "pd.set_option('display.width', 500)\n",
    "pd.set_option('max_colwidth', 100)"
   ]
  },
  {
   "cell_type": "code",
   "execution_count": null,
   "metadata": {},
   "outputs": [],
   "source": [
    "from util.plots import *\n",
    "from params import *\n",
    "from data.preparation import load_record, get_false_color_img"
   ]
  },
  {
   "cell_type": "code",
   "execution_count": null,
   "metadata": {},
   "outputs": [],
   "source": [
    "# pip install goes\n",
    "# pip install pyresample\n",
    "\n",
    "import GOES\n",
    "import pyproj\n",
    "import pyresample \n",
    "\n",
    "from pyresample.geometry import SwathDefinition\n",
    "from pyresample.kd_tree import resample_nearest\n",
    "from pyresample.bilinear import NumpyBilinearResampler"
   ]
  },
  {
   "cell_type": "code",
   "execution_count": null,
   "metadata": {},
   "outputs": [],
   "source": [
    "def resample(ds):\n",
    "    domain = [-120, -70, 5, 40]\n",
    "    \n",
    "    CMI, LonCen, LatCen = ds.image('Rad', lonlat='center', domain=domain, up_level=True)\n",
    "\n",
    "    LonCenCyl, LatCenCyl = GOES.create_gridmap(domain, PixResol=2.0)\n",
    "    LonCorCyl, LatCorCyl = GOES.calculate_corners(LonCenCyl, LatCenCyl)\n",
    "    \n",
    "    Prj = pyproj.Proj('+proj=eqc +lat_ts=0 +lat_0=0 +lon_0=0 +x_0=0 +y_0=0 +a=6378.137 +b=6378.137 +units=km')\n",
    "    AreaID = 'cyl'\n",
    "    AreaName = 'cyl'\n",
    "    ProjID = 'cyl'\n",
    "    Proj4Args = '+proj=eqc +lat_ts=0 +lat_0=0 +lon_0=0 +x_0=0 +y_0=0 +a=6378.137 +b=6378.137 +units=km'\n",
    "\n",
    "    ny, nx = LonCenCyl.data.shape\n",
    "    SW = Prj(LonCenCyl.data.min(), LatCenCyl.data.min())\n",
    "    NE = Prj(LonCenCyl.data.max(), LatCenCyl.data.max())\n",
    "    area_extent = [SW[0], SW[1], NE[0], NE[1]]\n",
    "\n",
    "    AreaDef = pyresample.utils.get_area_def(AreaID, AreaName, ProjID, Proj4Args, nx, ny, area_extent)\n",
    "    SwathDef = SwathDefinition(lons=LonCen.data, lats=LatCen.data)\n",
    "    \n",
    "    CMICyl = resample_nearest(\n",
    "        SwathDef, CMI.data, AreaDef, radius_of_influence=600000, # fill_value=np.nan, epsilon=1, reduce_data=False\n",
    "    )\n",
    "    \n",
    "    # slow\n",
    "    # resampler = NumpyBilinearResampler(SwathDef, AreaDef, radius_of_influence=6000, epsilon=3, reduce_data=True)\n",
    "    # CMICyl = resampler.resample(CMI.data)\n",
    "\n",
    "    return CMICyl"
   ]
  },
  {
   "cell_type": "markdown",
   "metadata": {},
   "source": [
    "## Data"
   ]
  },
  {
   "cell_type": "code",
   "execution_count": null,
   "metadata": {},
   "outputs": [],
   "source": [
    "BASE_DIR = '../input/goes16/'\n",
    "\n",
    "PLOT = False\n",
    "SAVE = True"
   ]
  },
  {
   "cell_type": "code",
   "execution_count": null,
   "metadata": {},
   "outputs": [],
   "source": [
    "SAVE_FOLDER = \"../output/goes16_false_color_3/\"\n",
    "os.makedirs(SAVE_FOLDER, exist_ok=True)"
   ]
  },
  {
   "cell_type": "code",
   "execution_count": null,
   "metadata": {},
   "outputs": [],
   "source": [
    "DAYS = [\n",
    "#     '121', '122', '123', '124',\n",
    "#     '125', '126', '127', '128',\n",
    "#     '129', '130', '131', '132',\n",
    "#     '133', '134', '135', '136',\n",
    "#     '137', '138', '139', '140',\n",
    "#     '141', '142', '143', '144',\n",
    "#     '145', '146', '147', '148',\n",
    "#     '149', '150', '151',\n",
    "]\n",
    "DAYS = [\n",
    "#     '152', '153', '154', '155',\n",
    "#     '156', '157', '158', '159',\n",
    "#     '160', '161', '162', '163',\n",
    "#     '164', '165', '166', '167',\n",
    "#     '168', '169', '170', '171',\n",
    "#     '172', '173', '174', '175',\n",
    "#     '176', '177', '178', '179',\n",
    "#     '180', '181', '182'\n",
    "]\n",
    "\n",
    "DAYS = [\n",
    "#     '183', '184', '185', '186', '206',\n",
    "#     '187', '188', '189', '190', '205', \n",
    "#     '191', '192', '193', '194', '204',\n",
    "#     '195', '196', '197', '198', '203',  \n",
    "#     '199', '200', '201', '202',\n",
    "    '207', '208', '209', '210', '211',\n",
    "]\n",
    "\n",
    "DAYS = sorted(os.listdir(BASE_DIR))"
   ]
  },
  {
   "cell_type": "code",
   "execution_count": null,
   "metadata": {},
   "outputs": [],
   "source": [
    "for day in DAYS:\n",
    "    for hour in tqdm(sorted(os.listdir(BASE_DIR + day))):\n",
    "        \n",
    "        root = BASE_DIR + f\"{day}/{hour}/\"\n",
    "        files = files = glob.glob(root + \"*.nc\")\n",
    "        \n",
    "#         print(day, hour, len(files))\n",
    "\n",
    "        imgs = {}\n",
    "        for file in files:\n",
    "            band = int(file.split('/')[-1].split('-')[3][3:5])\n",
    "            date = file.split('/')[-1].split('_')[3][1:]\n",
    "            \n",
    "#             if date != \"20231210040203\":\n",
    "#                 continue\n",
    "\n",
    "            ds = GOES.open_dataset(file)\n",
    "            \n",
    "            img = resample(ds)\n",
    "\n",
    "#             domain = [-120, -70, 10, 40]\n",
    "#             img, LonCor, LatCor = ds.image('Rad', lonlat='corner', domain=domain, up_level=True)  # [-135.0, -30.0, -50.0, 50.0]\n",
    "#             img = img.data\n",
    "#             plt.figure(figsize=(15, 15))\n",
    "#             plt.axis(False)\n",
    "#             plt.imshow(img)\n",
    "#             plt.show()\n",
    "#             break\n",
    "\n",
    "            try:\n",
    "                imgs[date][band] = img\n",
    "            except:\n",
    "                imgs[date] = {band: img}\n",
    "                \n",
    "        for i, k in enumerate(imgs):\n",
    "            try:\n",
    "                img = get_false_color_img(imgs[k])\n",
    "            except:\n",
    "                continue\n",
    "            \n",
    "            if PLOT and (i == 0):\n",
    "                plt.figure(figsize=(15, 15))\n",
    "                plt.axis(False)\n",
    "                plt.imshow(img)\n",
    "                plt.show()\n",
    "                \n",
    "            if SAVE:\n",
    "                cv2.imwrite(SAVE_FOLDER + f\"{day}_{hour}_{k}.png\", (img * 255).astype(np.uint8))\n",
    "\n",
    "#         break\n",
    "#     break"
   ]
  },
  {
   "cell_type": "code",
   "execution_count": null,
   "metadata": {},
   "outputs": [],
   "source": [
    "# bands = imgs['20231210040203']\n",
    "# patches = bands\n",
    "# img = get_false_color_img(patches)"
   ]
  },
  {
   "cell_type": "code",
   "execution_count": null,
   "metadata": {},
   "outputs": [],
   "source": [
    "# %%time\n",
    "# ds = GOES.open_dataset(file)\n",
    "# img = resample(ds)"
   ]
  },
  {
   "cell_type": "code",
   "execution_count": null,
   "metadata": {},
   "outputs": [],
   "source": [
    "# plt.figure(figsize=(15, 15))\n",
    "# plt.axis(False)\n",
    "# plt.imshow(img, cmap=\"gray\")\n",
    "# plt.show()"
   ]
  },
  {
   "cell_type": "markdown",
   "metadata": {},
   "source": [
    "## Loop"
   ]
  },
  {
   "cell_type": "markdown",
   "metadata": {},
   "source": [
    "Done ! "
   ]
  }
 ],
 "metadata": {
  "kernelspec": {
   "display_name": "Python 3 (ipykernel)",
   "language": "python",
   "name": "python3"
  },
  "language_info": {
   "codemirror_mode": {
    "name": "ipython",
    "version": 3
   },
   "file_extension": ".py",
   "mimetype": "text/x-python",
   "name": "python",
   "nbconvert_exporter": "python",
   "pygments_lexer": "ipython3",
   "version": "3.10.6"
  },
  "vscode": {
   "interpreter": {
    "hash": "f7241b2af102f7e024509099765066b36197b195077f7bfac6e5bc041ba17c8c"
   }
  }
 },
 "nbformat": 4,
 "nbformat_minor": 4
}
