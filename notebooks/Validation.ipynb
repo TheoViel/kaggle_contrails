{
 "cells": [
  {
   "cell_type": "markdown",
   "metadata": {},
   "source": [
    "**About** : This notebook is used to validate models."
   ]
  },
  {
   "cell_type": "code",
   "execution_count": null,
   "metadata": {},
   "outputs": [],
   "source": [
    "# %load_ext nb_black\n",
    "%load_ext autoreload\n",
    "%autoreload 2"
   ]
  },
  {
   "cell_type": "code",
   "execution_count": null,
   "metadata": {},
   "outputs": [],
   "source": [
    "cd ../src/"
   ]
  },
  {
   "cell_type": "markdown",
   "metadata": {},
   "source": [
    "## Initialization"
   ]
  },
  {
   "cell_type": "markdown",
   "metadata": {},
   "source": [
    "### Imports"
   ]
  },
  {
   "cell_type": "code",
   "execution_count": null,
   "metadata": {},
   "outputs": [],
   "source": [
    "import os\n",
    "import torch\n",
    "\n",
    "print(torch.__version__)\n",
    "os.environ['CUDA_VISIBLE_DEVICES'] = \"1\"\n",
    "device = torch.cuda.get_device_name(0)\n",
    "print(device)"
   ]
  },
  {
   "cell_type": "code",
   "execution_count": null,
   "metadata": {},
   "outputs": [],
   "source": [
    "import os\n",
    "import sys\n",
    "import glob\n",
    "import json\n",
    "import timm\n",
    "import torch\n",
    "import operator\n",
    "import warnings\n",
    "import numpy as np\n",
    "import pandas as pd\n",
    "import seaborn as sns\n",
    "import matplotlib.pyplot as plt\n",
    "\n",
    "from tqdm import tqdm\n",
    "from sklearn.metrics import *\n",
    "from collections import Counter\n",
    "from numerize.numerize import numerize\n",
    "\n",
    "pd.set_option('display.width', 500)\n",
    "pd.set_option('max_colwidth', 100)"
   ]
  },
  {
   "cell_type": "code",
   "execution_count": null,
   "metadata": {},
   "outputs": [],
   "source": [
    "from params import *\n",
    "from util.plots import *\n",
    "from util.metrics import *\n",
    "\n",
    "from data.dataset import ContrailDataset\n",
    "from data.transforms import get_transfos\n",
    "from data.preparation import prepare_data\n",
    "from util.plots import plot_sample\n",
    "from util.logger import upload_to_kaggle\n",
    "\n",
    "from inference_main import kfold_inference, Config"
   ]
  },
  {
   "cell_type": "markdown",
   "metadata": {},
   "source": [
    "### Data"
   ]
  },
  {
   "cell_type": "code",
   "execution_count": null,
   "metadata": {},
   "outputs": [],
   "source": [
    "df = prepare_data(DATA_PATH, processed_folder=\"false_color/\", use_raw=True)"
   ]
  },
  {
   "cell_type": "code",
   "execution_count": null,
   "metadata": {},
   "outputs": [],
   "source": [
    "if \"fold\" not in df.columns:\n",
    "    folds = pd.read_csv(DATA_PATH + \"folds_4.csv\")\n",
    "    df = df.merge(folds)"
   ]
  },
  {
   "cell_type": "code",
   "execution_count": null,
   "metadata": {},
   "outputs": [],
   "source": [
    "df_val = df[df['fold'] == 0].reset_index(drop=True)"
   ]
  },
  {
   "cell_type": "code",
   "execution_count": null,
   "metadata": {},
   "outputs": [],
   "source": [
    "# df_val[['record_id']].to_csv('../output/df_val.csv', index=False)"
   ]
  },
  {
   "cell_type": "code",
   "execution_count": null,
   "metadata": {},
   "outputs": [],
   "source": [
    "DEBUG = False\n",
    "\n",
    "folders = [\n",
    "    3687499407028137410,\n",
    "    6558861185867890815,\n",
    "    7355354609194882312,\n",
    "    7547747455642200110,\n",
    "    5456834089979970017,\n",
    "    1501528175573804219,\n",
    "    5728069425727341010,\n",
    "    8604370548989406919,\n",
    "    4746167155668084215,\n",
    "    6094972442472366517,\n",
    "]\n",
    "\n",
    "if DEBUG:\n",
    "    df_val = df_val[df_val[\"record_id\"].isin(folders)].reset_index(drop=True)"
   ]
  },
  {
   "cell_type": "code",
   "execution_count": null,
   "metadata": {},
   "outputs": [],
   "source": [
    "dataset = ContrailDataset(df_val, get_transfos())\n",
    "\n",
    "gts = []\n",
    "for i in tqdm(range(len(dataset))):\n",
    "    image, mask, _ = dataset[i]\n",
    "    gts.append(mask[:1].numpy())\n",
    "    \n",
    "#     if not (i % 1000):\n",
    "#         plot_sample(image.numpy().transpose(1, 2, 0), mask[:1].numpy().transpose(1, 2, 0))\n",
    "gts = np.array(gts)"
   ]
  },
  {
   "cell_type": "markdown",
   "metadata": {},
   "source": [
    "### Inference"
   ]
  },
  {
   "cell_type": "code",
   "execution_count": null,
   "metadata": {},
   "outputs": [],
   "source": [
    "USE_FP16 = True\n",
    "SAVE = not DEBUG"
   ]
  },
  {
   "cell_type": "code",
   "execution_count": null,
   "metadata": {},
   "outputs": [],
   "source": [
    "# cvnxt-nano\n",
    "\n",
    "# 2D\n",
    "EXP_FOLDER = \"../logs/2023-07-17/10/\"\n",
    "EXP_FOLDER = \"../logs/2023-07-18/4/\" \n",
    "EXP_FOLDER = \"../logs/2023-07-18/7/\" \n",
    "EXP_FOLDER = \"../logs/2023-07-18/12/\" \n",
    "EXP_FOLDER = \"../logs/2023-07-19/1/\" \n",
    "\n",
    "# CNN frames 1234\n",
    "EXP_FOLDER = \"../logs/2023-07-18/0/\" \n",
    "EXP_FOLDER = \"../logs/2023-07-18/6/\" \n",
    "EXP_FOLDER = \"../logs/2023-07-18/10/\" \n",
    "EXP_FOLDER = \"../logs/2023-07-19/0/\" \n",
    "EXP_FOLDER = \"../logs/2023-07-19/2/\" \n",
    "\n",
    "# LSTM frames 1234\n",
    "EXP_FOLDER = \"../logs/2023-07-19/10/\"\n",
    "EXP_FOLDER = \"../logs/2023-07-19/12/\"\n",
    "EXP_FOLDER = \"../logs/2023-07-19/15/\"\n",
    "EXP_FOLDER = \"../logs/2023-07-19/17/\"\n",
    "\n",
    "# cnn nocutmix\n",
    "EXP_FOLDER = \"../logs/2023-07-31/21/\"\n",
    "EXP_FOLDER = \"../logs/2023-07-31/22/\"\n",
    "EXP_FOLDER = \"../logs/2023-08-01/6/\"\n",
    "EXP_FOLDER = \"../logs/2023-08-01/7/\"\n",
    "EXP_FOLDER = \"../logs/2023-08-01/14/\"\n",
    "EXP_FOLDER = \"../logs/2023-08-01/16/\""
   ]
  },
  {
   "cell_type": "code",
   "execution_count": null,
   "metadata": {},
   "outputs": [],
   "source": [
    "# v2s\n",
    "\n",
    "# 2D\n",
    "EXP_FOLDER = \"../logs/2023-07-19/22/\"\n",
    "EXP_FOLDER = \"../logs/2023-07-19/21/\"\n",
    "EXP_FOLDER = \"../logs/2023-07-19/20/\"\n",
    "EXP_FOLDER = \"../logs/2023-07-19/18/\"\n",
    "EXP_FOLDER = \"../logs/2023-07-20/1/\"\n",
    "\n",
    "# LSTM frames 2345\n",
    "EXP_FOLDER = \"../logs/2023-07-19/25/\"\n",
    "EXP_FOLDER = \"../logs/2023-07-19/24/\"\n",
    "EXP_FOLDER = \"../logs/2023-07-19/23/\"\n",
    "EXP_FOLDER = \"../logs/2023-07-19/19/\"\n",
    "EXP_FOLDER = \"../logs/2023-07-20/2/\"\n",
    "\n",
    "# LSTM frames 01234567 stride 1\n",
    "EXP_FOLDER = \"../logs/2023-07-22/8/\"\n",
    "EXP_FOLDER = \"../logs/2023-07-22/10/\"\n",
    "EXP_FOLDER = \"../logs/2023-07-22/16/\"\n",
    "EXP_FOLDER = \"../logs/2023-07-23/3/\"\n",
    "EXP_FOLDER = \"../logs/2023-07-23/7/\" \n",
    "\n",
    "# 2D v2s ext stride 2 100eps\n",
    "EXP_FOLDER = \"../logs/2023-07-29/1/\"\n",
    "EXP_FOLDER = \"../logs/2023-07-28/9/\" \n",
    "EXP_FOLDER = \"../logs/2023-07-29/13/\" \n",
    "EXP_FOLDER = \"../logs/2023-07-30/0/\" \n",
    "EXP_FOLDER = \"../logs/2023-07-30/6/\"\n",
    "\n",
    "# v2-s Finetune ext\n",
    "EXP_FOLDER = \"../logs/2023-07-30/16/\"\n",
    "EXP_FOLDER = \"../logs/2023-07-30/19/\"\n",
    "EXP_FOLDER = \"../logs/2023-07-30/20/\"\n",
    "EXP_FOLDER = \"../logs/2023-08-02/0/\"\n",
    "EXP_FOLDER = \"../logs/2023-08-02/1/\"\n",
    "EXP_FOLDER = \"../logs/2023-08-04/23/\"  # + 5 fullfit\n",
    "\n",
    "# # nocutmix\n",
    "# EXP_FOLDER = \"../logs/2023-07-30/26/\"\n",
    "# EXP_FOLDER = \"../logs/2023-07-30/27/\"\n",
    "# EXP_FOLDER = \"../logs/2023-07-31/3/\"\n",
    "# EXP_FOLDER = \"../logs/2023-07-31/4/\"\n",
    "# EXP_FOLDER = \"../logs/2023-07-31/5/\"\n",
    "\n",
    "# # v2-s june-july finetune cnn\n",
    "# EXP_FOLDER = \"../logs/2023-08-01/0/\"\n",
    "# EXP_FOLDER = \"../logs/2023-08-01/1/\"\n",
    "# EXP_FOLDER = \"../logs/2023-08-01/8/\"\n",
    "# EXP_FOLDER = \"../logs/2023-08-01/9/\"\n",
    "# EXP_FOLDER = \"../logs/2023-08-01/15/\"\n",
    "\n",
    "\n",
    "# # 200 eps\n",
    "# EXP_FOLDER = \"../logs/2023-07-28/10/\"\n",
    "# EXP_FOLDER = \"../logs/2023-08-01/27/\"\n",
    "\n",
    "\n",
    "# # # june-july 2D\n",
    "# # EXP_FOLDER = \"../logs/2023-07-31/7/\"\n",
    "# # EXP_FOLDER = \"../logs/2023-07-31/8/\"\n",
    "# EXP_FOLDER = \"../logs/2023-08-01/24/\"\n",
    "# EXP_FOLDER = \"../logs/2023-08-02/2/\"\n",
    "# EXP_FOLDER = \"../logs/2023-08-02/3/\"\n",
    "# EXP_FOLDER = \"../logs/2023-08-02/4/\"\n",
    "# EXP_FOLDER = \"../logs/2023-08-02/5/\""
   ]
  },
  {
   "cell_type": "code",
   "execution_count": null,
   "metadata": {},
   "outputs": [],
   "source": [
    "# preds = kfold_inference(df_val if DEBUG else df, EXP_FOLDER, use_fp16=USE_FP16, save=SAVE)"
   ]
  },
  {
   "cell_type": "code",
   "execution_count": null,
   "metadata": {},
   "outputs": [],
   "source": [
    "# preds = []\n",
    "# os.makedirs(EXP_FOLDER + \"pl_masks/\", exist_ok=True)\n",
    "\n",
    "# for fold in [1, 2, 3]:\n",
    "#     print(f\"\\n- Fold {fold + 1}\")\n",
    "#     df_ = df[df['fold'] == fold].reset_index(drop=True)\n",
    "    \n",
    "#     pred_val = np.load(EXP_FOLDER + f\"pred_val_{fold}.npy\")\n",
    "    \n",
    "#     for i in tqdm(range(len(df_))):\n",
    "#         mask = pred_val[i][0].astype(np.float32)\n",
    "#         record_id = df_['record_id'][i]\n",
    "        \n",
    "#         np.save(EXP_FOLDER + \"pl_masks/\" + str(record_id) + \".npy\", mask)"
   ]
  },
  {
   "cell_type": "code",
   "execution_count": null,
   "metadata": {},
   "outputs": [],
   "source": [
    "# preds_gpu = torch.from_numpy(preds[0]).cuda()\n",
    "# truths_gpu = torch.from_numpy(gts).cuda()\n",
    "\n",
    "# dices = {}\n",
    "# for th in tqdm(np.round(np.arange(0.2, 0.6, 0.01), 2)):\n",
    "#     dices[th] = dice_score_torch((preds_gpu > th), truths_gpu)\n",
    "    \n",
    "# th, dice = max(dices.items(), key=operator.itemgetter(1))\n",
    "# print(f'-> CV dice :  {dice:.4f}   (th={th:.2f})')"
   ]
  },
  {
   "cell_type": "code",
   "execution_count": null,
   "metadata": {},
   "outputs": [],
   "source": [
    "# preds_gpu = torch.from_numpy(preds[0]).cuda()\n",
    "# truths_gpu = torch.from_numpy(gts).cuda()\n",
    "\n",
    "# dices = {}\n",
    "# for th in tqdm(np.round(np.arange(0.2, 0.6, 0.01), 2)):\n",
    "#     dices[th] = dice_score_torch((preds_gpu > th), truths_gpu)\n",
    "    \n",
    "# th, dice = max(dices.items(), key=operator.itemgetter(1))\n",
    "# print(f'-> CV dice :  {dice:.4f}   (th={th:.2f})')"
   ]
  },
  {
   "cell_type": "markdown",
   "metadata": {},
   "source": [
    "### Blends"
   ]
  },
  {
   "cell_type": "code",
   "execution_count": null,
   "metadata": {},
   "outputs": [],
   "source": [
    "# 5 runs - cvnxt-nano cnn frames 1234 stride 2 - 0.6863\n",
    "EXP_FOLDERS = [\n",
    "#     # cvnxt-nano \n",
    "#     # CNN 1234 - 0.6900\n",
    "#     \"../logs/2023-07-18/0/\" ,\n",
    "#     \"../logs/2023-07-18/6/\" ,\n",
    "#     \"../logs/2023-07-18/10/\" ,\n",
    "#     \"../logs/2023-07-19/0/\" ,\n",
    "#     \"../logs/2023-07-19/2/\", \n",
    "\n",
    "#     # LSTM 1234 - 0.6890\n",
    "#     \"../logs/2023-07-19/10/\",\n",
    "#     \"../logs/2023-07-19/12/\",\n",
    "#     \"../logs/2023-07-19/15/\",\n",
    "#     \"../logs/2023-07-19/17/\",\n",
    "\n",
    "    # v2s\n",
    "#     # LSTM 2345  - 0.6905\n",
    "#     \"../logs/2023-07-19/19/\",\n",
    "#     \"../logs/2023-07-19/23/\",\n",
    "#     \"../logs/2023-07-19/24/\",\n",
    "#     \"../logs/2023-07-19/25/\",\n",
    "#     \"../logs/2023-07-20/2/\",\n",
    "\n",
    "    # 2D Ext data 100 epochs - 0.6973\n",
    "    \"../logs/2023-07-28/9/\" ,\n",
    "    \"../logs/2023-07-29/1/\",\n",
    "    \"../logs/2023-07-29/13/\",\n",
    "    \"../logs/2023-07-30/0/\",\n",
    "    \"../logs/2023-07-30/6/\",\n",
    "    \"../logs/2023-08-04/23/\",\n",
    "\n",
    "#     # 2D Ext data 100 epochs + LSTM - 0.6968\n",
    "#     \"../logs/2023-07-30/16/\",\n",
    "#     \"../logs/2023-07-30/19/\",\n",
    "#     \"../logs/2023-07-30/20/\",\n",
    "#     \"../logs/2023-08-01/9/\",\n",
    "#     \"../logs/2023-08-01/15/\",\n",
    "\n",
    "    # 2D Ext data 200 eps - 0.6956\n",
    "    \"../logs/2023-07-28/10/\",\n",
    "    \"../logs/2023-08-01/27/\",\n",
    "    \"../logs/2023-08-02/2/\",\n",
    "    \"../logs/2023-08-02/3/\",\n",
    "    \"../logs/2023-08-02/4/\",\n",
    "    \"../logs/2023-08-02/5/\",\n",
    "]\n",
    "\n",
    "PREDS = {f: torch.from_numpy(np.load(f + \"pred_val_0.npy\")) for f in tqdm(EXP_FOLDERS)} # .cuda()"
   ]
  },
  {
   "cell_type": "code",
   "execution_count": null,
   "metadata": {},
   "outputs": [],
   "source": [
    "# upload_to_kaggle(EXP_FOLDERS, \"../output/dataset_v2/\", \"Contrail Weights 2D\", update_folders=False)"
   ]
  },
  {
   "cell_type": "code",
   "execution_count": null,
   "metadata": {},
   "outputs": [],
   "source": [
    "truths_gpu = torch.from_numpy(gts) # .cuda()\n",
    "scores = []\n",
    "\n",
    "# for exp_folder in EXP_FOLDERS:\n",
    "#     preds = PREDS[exp_folder]\n",
    "\n",
    "#     dices = {}\n",
    "#     for th in np.round(np.arange(0.2, 0.6, 0.01), 2):\n",
    "#         dices[th] = dice_score_torch((preds > th), truths_gpu)\n",
    "\n",
    "#     th, dice = max(dices.items(), key=operator.itemgetter(1))\n",
    "#     print(f'-> {exp_folder}\\t-  CV dice :  {dice:.4f}   (th={th:.2f})')\n",
    "#     scores.append(dice)\n",
    "    \n",
    "# print(f'\\n  --> Avg of CV : {np.mean(scores):.4f} +/- {np.std(scores):.4f}')\n",
    "\n",
    "\n",
    "preds = torch.stack([PREDS[f] for f in EXP_FOLDERS], 0).mean(0)\n",
    "\n",
    "dices = {}\n",
    "for th in np.round(np.arange(0.4, 0.6, 0.01), 2):\n",
    "    dices[th] = dice_score_torch((preds > th), truths_gpu)\n",
    "    \n",
    "th, dice = max(dices.items(), key=operator.itemgetter(1))\n",
    "print(f'  --> CV of avg : {dice:.4f}   (th={th:.2f})')"
   ]
  },
  {
   "cell_type": "code",
   "execution_count": null,
   "metadata": {},
   "outputs": [],
   "source": [
    "# np.save(\"../output/v2s.npy\", preds.numpy()[:, 0])"
   ]
  },
  {
   "cell_type": "code",
   "execution_count": null,
   "metadata": {},
   "outputs": [],
   "source": [
    "plt.plot(np.array(list(dices.keys())).astype(float), dices.values())\n",
    "plt.axvline(th, c=\"salmon\")\n",
    "plt.xlim(th - 0.1, th + 0.1)\n",
    "plt.ylim(dice - 0.01, dice + 0.002)\n",
    "plt.title(f'dice={dice:.4f}, th={th:.2f}')\n",
    "plt.show()"
   ]
  },
  {
   "cell_type": "markdown",
   "metadata": {},
   "source": [
    "### With team"
   ]
  },
  {
   "cell_type": "code",
   "execution_count": null,
   "metadata": {},
   "outputs": [],
   "source": [
    "# probs = [cv2.imread(f'../output/drhb/{p}.png', cv2.IMREAD_GRAYSCALE) for p in tqdm(df_val['record_id'].values)]\n",
    "# probs = np.array(probs).astype(np.float16) / 255\n",
    "# np.save(\"../output/psam_single.npy\", probs)\n",
    "\n",
    "# for f in os.listdir('../output/iafoss/'):\n",
    "#     if not os.path.isdir(f'../output/iafoss/{f}'):\n",
    "#         continue\n",
    "\n",
    "#     print(f'- {f}')\n",
    "#     probs = [cv2.imread(f'../output/iafoss/{f}/{p}.png', cv2.IMREAD_GRAYSCALE) for p in tqdm(df_val['record_id'].values)]\n",
    "#     probs = np.array(probs).astype(np.float16) / 255\n",
    "#     np.save(f\"../output/iafoss/{f}.npy\", probs)\n",
    "# #     break"
   ]
  },
  {
   "cell_type": "code",
   "execution_count": null,
   "metadata": {},
   "outputs": [],
   "source": [
    "FILES = {\n",
    "    \"Psam-Drhb\": \"../output/psam_single.npy\",                       # 0.6933 \n",
    "    \"Ex-v2s-Theo\": \"../output/v2s.npy\",                             # 0.6992   \n",
    "\n",
    "    \"CoaT_ULSTM\": '../output/iafoss/Seq_CoaT_512_0.npy',            # 0.7038 \n",
    "    \"CoaT_UT  \": '../output/iafoss/Seq_CoaT_512_1.npy',             # 0.7052 \n",
    "    \"Ex-Coat_ULSTM\": '../output/iafoss/Seq_ExCoaT_512_0.npy',       # 0.7063 \n",
    "    \"Ex-Coat_UT\": '../output/iafoss/Seq_ExCoaT_512_1.npy',          # 0.7040\n",
    "    \n",
    "    \"NeXtViT_ULSTM\": '../output/iafoss/Seq_NextViT_512_0.npy',      # 0.7010 \n",
    "    \"Ex-NeXtViT_ULSTM\": '../output/iafoss/Seq_ExNeXtViT_512_0.npy', # 0.7024\n",
    "    \"Ex-NeXtViT_UT\": '../output/iafoss/Seq_ExNeXtViT_512_1.npy',    # 0.7002 \n",
    "\n",
    "#     \"NeXtViT_512_1\": '../output/iafoss/NeXtViT_512_1.npy',             # 0.6912 - \n",
    "#     \"CoaT_512_1    \": '../output/iafoss/CoaT_512_1.npy',               # 0.6978\n",
    "}\n",
    "\n",
    "\n",
    "PREDS = {f: torch.from_numpy(np.load(FILES[f])).cuda() for f in tqdm(FILES)}"
   ]
  },
  {
   "cell_type": "code",
   "execution_count": null,
   "metadata": {},
   "outputs": [],
   "source": [
    "truths_gpu = torch.from_numpy(gts).cuda()\n",
    "for exp_folder in PREDS:\n",
    "    preds = PREDS[exp_folder]\n",
    "\n",
    "    dices = {}\n",
    "    for th in np.round(np.arange(0.2, 0.6, 0.01), 2):\n",
    "        dices[th] = dice_score_torch((preds > th), truths_gpu)\n",
    "\n",
    "    th, dice = max(dices.items(), key=operator.itemgetter(1))\n",
    "    print(f'-> {exp_folder}    \\t-  CV dice :  {dice:.4f}   (th={th:.2f})')"
   ]
  },
  {
   "cell_type": "code",
   "execution_count": null,
   "metadata": {},
   "outputs": [],
   "source": [
    "WEIGHTS = {\n",
    "    'Psam-Drhb': 1,        # 0.6933\n",
    "    'Ex-v2s-Theo': 1,      # 0.6992\n",
    "    'CoaT_ULSTM': 1,       # 0.7038\n",
    "    'CoaT_UT  ': 1,        # 0.7052\n",
    "#     'Ex-Coat_ULSTM': 0.1,    # 0.7063\n",
    "#     'Ex-Coat_UT': 1,       # 0.7040\n",
    "    'NeXtViT_ULSTM': 0.5,    # 0.7010\n",
    "    'Ex-NeXtViT_ULSTM': 0.5, # 0.7024\n",
    "#     'Ex-NeXtViT_UT': 0.5,  # 0.7002\n",
    "}\n",
    "\n",
    "WEIGHTS = [WEIGHTS.get(k, 0) for k in PREDS]"
   ]
  },
  {
   "cell_type": "code",
   "execution_count": null,
   "metadata": {},
   "outputs": [],
   "source": [
    "preds = torch.stack([PREDS[f] for f in PREDS], 0)\n",
    "weights = torch.tensor(WEIGHTS).to(preds.device).view(-1, 1, 1, 1)\n",
    "preds = (preds * weights).sum(0) / weights.sum(0)\n",
    "\n",
    "dices = {}\n",
    "for th in np.round(np.arange(0.4, 0.6, 0.01), 2):\n",
    "    dices[th] = dice_score_torch((preds > th), truths_gpu)\n",
    "    \n",
    "th, dice = max(dices.items(), key=operator.itemgetter(1))\n",
    "# th = 0.48\n",
    "# dice = dices[th]\n",
    "print(f'\\n  --> CV of avg : {dice:.4f}   (th={th:.2f})')"
   ]
  },
  {
   "cell_type": "code",
   "execution_count": null,
   "metadata": {},
   "outputs": [],
   "source": [
    "plt.plot(np.array(list(dices.keys())).astype(float), dices.values())\n",
    "plt.axvline(th, c=\"salmon\")\n",
    "plt.xlim(th - 0.1, th + 0.1)\n",
    "plt.ylim(dice - 0.01, dice + 0.002)\n",
    "plt.title(f'dice={dice:.4f}, th={th:.2f}')\n",
    "plt.show()"
   ]
  },
  {
   "cell_type": "markdown",
   "metadata": {},
   "source": [
    "### Plot errors\n",
    "- TODO"
   ]
  },
  {
   "cell_type": "markdown",
   "metadata": {},
   "source": [
    "Done ! "
   ]
  }
 ],
 "metadata": {
  "kernelspec": {
   "display_name": "Python 3 (ipykernel)",
   "language": "python",
   "name": "python3"
  },
  "language_info": {
   "codemirror_mode": {
    "name": "ipython",
    "version": 3
   },
   "file_extension": ".py",
   "mimetype": "text/x-python",
   "name": "python",
   "nbconvert_exporter": "python",
   "pygments_lexer": "ipython3",
   "version": "3.10.6"
  },
  "vscode": {
   "interpreter": {
    "hash": "f7241b2af102f7e024509099765066b36197b195077f7bfac6e5bc041ba17c8c"
   }
  }
 },
 "nbformat": 4,
 "nbformat_minor": 4
}
