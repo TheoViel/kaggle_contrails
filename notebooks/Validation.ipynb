{
 "cells": [
  {
   "cell_type": "markdown",
   "metadata": {},
   "source": [
    "**About** : This notebook is used to validate models."
   ]
  },
  {
   "cell_type": "code",
   "execution_count": null,
   "metadata": {},
   "outputs": [],
   "source": [
    "# %load_ext nb_black\n",
    "%load_ext autoreload\n",
    "%autoreload 2"
   ]
  },
  {
   "cell_type": "code",
   "execution_count": null,
   "metadata": {},
   "outputs": [],
   "source": [
    "cd ../src/"
   ]
  },
  {
   "cell_type": "markdown",
   "metadata": {},
   "source": [
    "## Initialization"
   ]
  },
  {
   "cell_type": "markdown",
   "metadata": {},
   "source": [
    "### Imports"
   ]
  },
  {
   "cell_type": "code",
   "execution_count": null,
   "metadata": {},
   "outputs": [],
   "source": [
    "import os\n",
    "import torch\n",
    "\n",
    "print(torch.__version__)\n",
    "os.environ['CUDA_VISIBLE_DEVICES'] = \"1\"\n",
    "device = torch.cuda.get_device_name(0)\n",
    "print(device)"
   ]
  },
  {
   "cell_type": "code",
   "execution_count": null,
   "metadata": {},
   "outputs": [],
   "source": [
    "import os\n",
    "import sys\n",
    "import glob\n",
    "import json\n",
    "import timm\n",
    "import torch\n",
    "import operator\n",
    "import warnings\n",
    "import numpy as np\n",
    "import pandas as pd\n",
    "import seaborn as sns\n",
    "import matplotlib.pyplot as plt\n",
    "\n",
    "from tqdm import tqdm\n",
    "from sklearn.metrics import *\n",
    "from numerize.numerize import numerize\n",
    "\n",
    "pd.set_option('display.width', 500)\n",
    "pd.set_option('max_colwidth', 100)"
   ]
  },
  {
   "cell_type": "code",
   "execution_count": null,
   "metadata": {},
   "outputs": [],
   "source": [
    "from params import *\n",
    "from util.plots import *\n",
    "from data.dataset import *\n",
    "from data.transforms import get_transfos\n",
    "from data.preparation import *\n",
    "from util.torch import init_distributed, count_parameters, load_model_weights, count_parameters\n",
    "from util.plots import plot_sample\n",
    "from model_zoo.models import define_model"
   ]
  },
  {
   "cell_type": "markdown",
   "metadata": {},
   "source": [
    "## Data"
   ]
  },
  {
   "cell_type": "code",
   "execution_count": null,
   "metadata": {},
   "outputs": [],
   "source": [
    "EXP_FOLDER = \"../logs/2023-07-03/35/\"\n",
    "# EXP_FOLDER = \"../logs/2023-07-05/35/\"\n"
   ]
  },
  {
   "cell_type": "code",
   "execution_count": null,
   "metadata": {},
   "outputs": [],
   "source": [
    "\n",
    "dices = json.load(open(EXP_FOLDER + \"dices.json\", \"r\"))\n",
    "\n",
    "th, dice = max(dices.items(), key=operator.itemgetter(1))\n",
    "th = float(th)"
   ]
  },
  {
   "cell_type": "code",
   "execution_count": null,
   "metadata": {},
   "outputs": [],
   "source": [
    "plt.plot(np.array(list(dices.keys())).astype(float), dices.values())\n",
    "plt.axvline(th, c=\"salmon\")\n",
    "plt.xlim(th - 0.1, th + 0.1)\n",
    "plt.ylim(dice - 0.01, dice + 0.002)\n",
    "plt.title(f'dice={dice:.3f}, th={th:.2f}')\n",
    "plt.show()"
   ]
  },
  {
   "cell_type": "code",
   "execution_count": null,
   "metadata": {},
   "outputs": [],
   "source": [
    "df = prepare_data(DATA_PATH, processed_folder=\"false_color/\")"
   ]
  },
  {
   "cell_type": "code",
   "execution_count": null,
   "metadata": {},
   "outputs": [],
   "source": [
    "if \"fold\" not in df.columns:\n",
    "    folds = pd.read_csv(DATA_PATH + \"folds_4.csv\")\n",
    "    df = df.merge(folds)"
   ]
  },
  {
   "cell_type": "code",
   "execution_count": null,
   "metadata": {},
   "outputs": [],
   "source": [
    "df_val = df[df['fold'] == 0].reset_index(drop=True)"
   ]
  },
  {
   "cell_type": "markdown",
   "metadata": {},
   "source": [
    "### Dataset"
   ]
  },
  {
   "cell_type": "code",
   "execution_count": null,
   "metadata": {},
   "outputs": [],
   "source": [
    "import torch\n",
    "import json\n",
    "import numpy as np\n",
    "from tqdm import tqdm\n",
    "from torch.utils.data import DataLoader\n",
    "\n",
    "from params import NUM_WORKERS\n",
    "from data.dataset import ContrailDataset\n",
    "from data.transforms import get_transfos\n",
    "from model_zoo.models import define_model\n",
    "from util.torch import load_model_weights\n",
    "\n",
    "\n",
    "NUM_WORKERS = 8\n",
    "\n",
    "\n",
    "class Config:\n",
    "    \"\"\"\n",
    "    Placeholder to load a config from a saved json\n",
    "    \"\"\"\n",
    "\n",
    "    def __init__(self, dic):\n",
    "        for k, v in dic.items():\n",
    "            setattr(self, k, v)\n",
    "\n",
    "\n",
    "def predict(model, dataset, loss_config, batch_size=64, device=\"cuda\", use_fp16=False):\n",
    "    \"\"\"\n",
    "    Perform model inference on a dataset.\n",
    "\n",
    "    Args:\n",
    "        model (nn.Module): Trained model for inference.\n",
    "        dataset (Dataset): Dataset to perform inference on.\n",
    "        loss_config (dict): Loss configuration.\n",
    "        batch_size (int, optional): Batch size for inference. Defaults to 64.\n",
    "        device (str, optional): Device to use for inference. Defaults to \"cuda\".\n",
    "        use_fp16 (bool, optional): Whether to use mixed precision inference. Defaults to False.\n",
    "\n",
    "    Returns:\n",
    "        preds (numpy.ndarray): Predicted probabilities of shape (num_samples, num_classes).\n",
    "        preds_aux (numpy.ndarray): Auxiliary predictions of shape (num_samples, num_aux_classes).\n",
    "    \"\"\"\n",
    "    model.eval()\n",
    "    preds, preds_aux = [], []\n",
    "\n",
    "    loader = DataLoader(\n",
    "        dataset, batch_size=batch_size, shuffle=False, num_workers=NUM_WORKERS\n",
    "    )\n",
    "\n",
    "    with torch.no_grad():\n",
    "        for img, _, _ in tqdm(loader):\n",
    "            with torch.cuda.amp.autocast(enabled=use_fp16):\n",
    "                pred, _ = model(img.cuda())\n",
    "\n",
    "            # Get probabilities\n",
    "            if loss_config[\"activation\"] == \"sigmoid\":\n",
    "                pred = pred.sigmoid()\n",
    "            elif loss_config[\"activation\"] == \"softmax\":\n",
    "                pred = pred.softmax(-1)\n",
    "\n",
    "#             if loss_config.get(\"activation_aux\", \"softmax\") == \"sigmoid\":\n",
    "#                 pred_aux = pred_aux.sigmoid()\n",
    "#             elif loss_config.get(\"activation_aux\", \"softmax\") == \"softmax\":\n",
    "#                 pred_aux = pred_aux.softmax(-1)\n",
    "\n",
    "            preds.append(pred.detach().cpu().numpy())\n",
    "#             preds_aux.append(pred_aux.cpu().numpy())\n",
    "\n",
    "    return np.concatenate(preds), []  #np.concatenate(preds_aux)\n",
    "\n",
    "\n",
    "def kfold_inference(\n",
    "    df,\n",
    "    exp_folder,\n",
    "    debug=False,\n",
    "    use_fp16=False,\n",
    "    save=False,\n",
    "):\n",
    "    \"\"\"\n",
    "    Perform k-fold cross-validation for model inference on the validation set.\n",
    "\n",
    "    Args:\n",
    "        df (pd.DataFrame): DataFrame containing the data.\n",
    "        exp_folder (str): Path to the experiment folder.\n",
    "        debug (bool, optional): Whether to run in debug mode. Defaults to False.\n",
    "        use_fp16 (bool, optional): Whether to use mixed precision inference. Defaults to False.\n",
    "\n",
    "    Returns:\n",
    "        np.ndarray: Array containing the predicted probabilities for each class.\n",
    "    \"\"\"\n",
    "    config = Config(json.load(open(exp_folder + \"config.json\", \"r\")))\n",
    "\n",
    "    model = define_model(\n",
    "        config.decoder_name,\n",
    "        config.encoder_name,\n",
    "        num_classes=config.num_classes,\n",
    "        n_channels=config.n_channels,\n",
    "        reduce_stride=config.reduce_stride,\n",
    "        use_pixel_shuffle=config.use_pixel_shuffle,\n",
    "        use_hypercolumns=config.use_hypercolumns,\n",
    "        center=config.center,\n",
    "        use_cls=config.loss_config['aux_loss_weight'] > 0,\n",
    "        pretrained=False,\n",
    "    ).cuda()\n",
    "    model = model.cuda().eval()\n",
    "\n",
    "    preds = []\n",
    "    for fold in config.selected_folds:\n",
    "        print(f\"\\n- Fold {fold + 1}\")\n",
    "\n",
    "        weights = exp_folder + f\"{config.decoder_name}_{config.encoder_name}_{fold}.pt\"\n",
    "        model = load_model_weights(model, weights, verbose=1)\n",
    "\n",
    "        df_val = df[df['fold'] == fold].reset_index(drop=True)\n",
    "\n",
    "        dataset = ContrailDataset(\n",
    "            df_val,\n",
    "            transforms=get_transfos(augment=False),\n",
    "        )\n",
    "\n",
    "        pred, _ = predict(\n",
    "            model,\n",
    "            dataset,\n",
    "            config.loss_config,\n",
    "            batch_size=config.data_config[\"val_bs\"],\n",
    "            use_fp16=use_fp16,\n",
    "        )\n",
    "        \n",
    "        if save:\n",
    "            pass\n",
    "\n",
    "        preds.append(pred)\n",
    "\n",
    "    return np.mean(preds, 0)"
   ]
  },
  {
   "cell_type": "code",
   "execution_count": null,
   "metadata": {},
   "outputs": [],
   "source": [
    "preds = kfold_inference(df, EXP_FOLDER, use_fp16=True, save=False)"
   ]
  },
  {
   "cell_type": "code",
   "execution_count": null,
   "metadata": {},
   "outputs": [],
   "source": [
    "dataset = ContrailDataset(df_val)"
   ]
  },
  {
   "cell_type": "code",
   "execution_count": null,
   "metadata": {},
   "outputs": [],
   "source": [
    "for i in range(len(dataset)):\n",
    "    img, mask, _ = dataset[i]\n",
    "    \n",
    "    "
   ]
  },
  {
   "cell_type": "code",
   "execution_count": null,
   "metadata": {},
   "outputs": [],
   "source": [
    "preds.shape"
   ]
  },
  {
   "cell_type": "markdown",
   "metadata": {},
   "source": [
    "Done ! "
   ]
  }
 ],
 "metadata": {
  "kernelspec": {
   "display_name": "Python 3 (ipykernel)",
   "language": "python",
   "name": "python3"
  },
  "language_info": {
   "codemirror_mode": {
    "name": "ipython",
    "version": 3
   },
   "file_extension": ".py",
   "mimetype": "text/x-python",
   "name": "python",
   "nbconvert_exporter": "python",
   "pygments_lexer": "ipython3",
   "version": "3.10.6"
  },
  "vscode": {
   "interpreter": {
    "hash": "f7241b2af102f7e024509099765066b36197b195077f7bfac6e5bc041ba17c8c"
   }
  }
 },
 "nbformat": 4,
 "nbformat_minor": 4
}
