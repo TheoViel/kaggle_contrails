{
 "cells": [
  {
   "cell_type": "markdown",
   "metadata": {},
   "source": [
    "**About** : This notebook is used to validate models."
   ]
  },
  {
   "cell_type": "code",
   "execution_count": null,
   "metadata": {},
   "outputs": [],
   "source": [
    "# %load_ext nb_black\n",
    "%load_ext autoreload\n",
    "%autoreload 2"
   ]
  },
  {
   "cell_type": "code",
   "execution_count": null,
   "metadata": {},
   "outputs": [],
   "source": [
    "cd ../src/"
   ]
  },
  {
   "cell_type": "markdown",
   "metadata": {},
   "source": [
    "## Initialization"
   ]
  },
  {
   "cell_type": "markdown",
   "metadata": {},
   "source": [
    "### Imports"
   ]
  },
  {
   "cell_type": "code",
   "execution_count": null,
   "metadata": {},
   "outputs": [],
   "source": [
    "import os\n",
    "import torch\n",
    "\n",
    "print(torch.__version__)\n",
    "os.environ['CUDA_VISIBLE_DEVICES'] = \"1\"\n",
    "device = torch.cuda.get_device_name(0)\n",
    "print(device)"
   ]
  },
  {
   "cell_type": "code",
   "execution_count": null,
   "metadata": {},
   "outputs": [],
   "source": [
    "import os\n",
    "import sys\n",
    "import glob\n",
    "import json\n",
    "import timm\n",
    "import torch\n",
    "import operator\n",
    "import warnings\n",
    "import numpy as np\n",
    "import pandas as pd\n",
    "import seaborn as sns\n",
    "import matplotlib.pyplot as plt\n",
    "\n",
    "from tqdm import tqdm\n",
    "from sklearn.metrics import *\n",
    "from collections import Counter\n",
    "from numerize.numerize import numerize\n",
    "\n",
    "pd.set_option('display.width', 500)\n",
    "pd.set_option('max_colwidth', 100)"
   ]
  },
  {
   "cell_type": "code",
   "execution_count": null,
   "metadata": {},
   "outputs": [],
   "source": [
    "from params import *\n",
    "from util.plots import *\n",
    "from util.metrics import *\n",
    "\n",
    "from data.dataset import ContrailDataset\n",
    "from data.transforms import get_transfos\n",
    "from data.preparation import prepare_data\n",
    "from util.plots import plot_sample\n",
    "from util.logger import upload_to_kaggle\n",
    "\n",
    "from inference_main import kfold_inference, Config"
   ]
  },
  {
   "cell_type": "markdown",
   "metadata": {},
   "source": [
    "### Data"
   ]
  },
  {
   "cell_type": "code",
   "execution_count": null,
   "metadata": {},
   "outputs": [],
   "source": [
    "df = prepare_data(DATA_PATH, processed_folder=\"false_color/\", use_raw=True)"
   ]
  },
  {
   "cell_type": "code",
   "execution_count": null,
   "metadata": {},
   "outputs": [],
   "source": [
    "if \"fold\" not in df.columns:\n",
    "    folds = pd.read_csv(DATA_PATH + \"folds_4.csv\")\n",
    "    df = df.merge(folds)"
   ]
  },
  {
   "cell_type": "code",
   "execution_count": null,
   "metadata": {},
   "outputs": [],
   "source": [
    "df_val = df[df['fold'] == 0].reset_index(drop=True)"
   ]
  },
  {
   "cell_type": "code",
   "execution_count": null,
   "metadata": {},
   "outputs": [],
   "source": [
    "df_val[['record_id']].to_csv('../output/df_val.csv', index=False)"
   ]
  },
  {
   "cell_type": "code",
   "execution_count": null,
   "metadata": {},
   "outputs": [],
   "source": [
    "DEBUG = False\n",
    "\n",
    "folders = [\n",
    "    3687499407028137410,\n",
    "    6558861185867890815,\n",
    "    7355354609194882312,\n",
    "    7547747455642200110,\n",
    "    5456834089979970017,\n",
    "    1501528175573804219,\n",
    "    5728069425727341010,\n",
    "    8604370548989406919,\n",
    "    4746167155668084215,\n",
    "    6094972442472366517,\n",
    "]\n",
    "\n",
    "if DEBUG:\n",
    "    df_val = df_val[df_val[\"record_id\"].isin(folders)].reset_index(drop=True)"
   ]
  },
  {
   "cell_type": "code",
   "execution_count": null,
   "metadata": {},
   "outputs": [],
   "source": [
    "dataset = ContrailDataset(df_val, get_transfos())\n",
    "\n",
    "gts = []\n",
    "for i in tqdm(range(len(dataset))):\n",
    "    image, mask, _ = dataset[i]\n",
    "    gts.append(mask[:1].numpy())\n",
    "    \n",
    "#     if not (i % 1000):\n",
    "#         plot_sample(image.numpy().transpose(1, 2, 0), mask[:1].numpy().transpose(1, 2, 0))\n",
    "gts = np.array(gts)"
   ]
  },
  {
   "cell_type": "markdown",
   "metadata": {},
   "source": [
    "### Inference"
   ]
  },
  {
   "cell_type": "code",
   "execution_count": null,
   "metadata": {},
   "outputs": [],
   "source": [
    "USE_FP16 = True\n",
    "SAVE = not DEBUG"
   ]
  },
  {
   "cell_type": "code",
   "execution_count": null,
   "metadata": {},
   "outputs": [],
   "source": [
    "# config = Config(json.load(open(EXP_FOLDER + \"config.json\", \"r\")))"
   ]
  },
  {
   "cell_type": "code",
   "execution_count": null,
   "metadata": {},
   "outputs": [],
   "source": [
    "# EXP_FOLDER = \"../logs/2023-07-03/35/\"  # v2-s stride 2          - 0.6845\n",
    "# EXP_FOLDER = \"../logs/2023-07-05/35/\"  # convnext-nano cont     - 0.6844\n",
    "# EXP_FOLDER = \"../logs/2023-07-07/8/\"   # v2-s stride 1 pl_mask  - 0.6806\n",
    "# EXP_FOLDER = \"../logs/2023-07-07/10/\"  # convnext-nano pl_mask  - 0.6853\n",
    "# EXP_FOLDER = \"../logs/2023-07-07/14/\"  # v2-s stride 2 pl_mask  - 0.6827\n",
    "\n",
    "\n",
    "# EXP_FOLDER = \"../logs/2023-07-09/2/\"  # v2-s stride 2 repro     - 0.6811\n",
    "\n",
    "EXP_FOLDER = \"../logs/2023-07-11/13/\"  # v2-s lstm frames 01234 stride 1 - 0.6822\n",
    "EXP_FOLDER = \"../logs/2023-07-11/20/\"  # v2-s lstm frames 01234 stride 1 - 0.6817\n",
    "EXP_FOLDER = \"../logs/2023-07-11/24/\"  # v2-s lstm frames 234   stride 1 - 0.6794\n",
    "EXP_FOLDER = \"../logs/2023-07-11/26/\"  # v2-s lstm frames 234   stride 2 - 0.6846\n",
    "EXP_FOLDER = \"../logs/2023-07-11/28/\"  # v2-s lstm frames 1234  stride 2 - 0.6833\n",
    "EXP_FOLDER = \"../logs/2023-07-11/37/\"  # cvnxt-nano lstm frames 1234 stride 2 - 0.6853\n",
    "EXP_FOLDER = \"../logs/2023-07-11/39/\"  # cvnxt-nano lstm frames 1234 stride 2 - 0.6849\n",
    "\n",
    "\n",
    "EXP_FOLDER = \"../logs/2023-07-12/10/\"  # v2-s cnn frames 23456 stride 1 - 0.6812\n",
    "\n",
    "EXP_FOLDER = \"../logs/2023-07-12/11/\"  # v2-s cnn frames 345 stride 2 - 0.6843\n",
    "EXP_FOLDER = \"../logs/2023-07-12/13/\"  # v2-s lstm frames 2345 stride 2 - 0.6866      <------- ?\n",
    "EXP_FOLDER = \"../logs/2023-07-12/14/\"  # v2-s lstm cnn frames 2345 stride 2 - 0.6827\n",
    "EXP_FOLDER = \"../logs/2023-07-12/15/\"  # v2-s cnn frames 1234 stride 2 - 0.6830\n",
    "\n",
    "EXP_FOLDER = \"../logs/2023-07-12/16/\" # cvnxt-nano cnn frames 1234 stride 2 - 0.6863       <-------\n",
    "EXP_FOLDER = \"../logs/2023-07-12/17/\" # cvnxt-nano cnn frames 345 stride 2 - 0.6843\n",
    "EXP_FOLDER = \"../logs/2023-07-12/21/\" # cvnxt-nano lstm cnn frames 1234 stride 2 - 0.6860\n",
    "EXP_FOLDER = \"../logs/2023-07-12/22/\" # cvnxt-nano lstm frames 2345 stride 2 - 0.6865\n",
    "\n",
    "EXP_FOLDER = \"../logs/2023-07-13/2/\" # cvnxt-nano transfo frames 2345 stride 2 - 0.6837\n",
    "EXP_FOLDER = \"../logs/2023-07-13/3/\" # cvnxt-nano transfo frames 1234 stride 2 - 0.6842\n",
    "EXP_FOLDER = \"../logs/2023-07-13/4/\" # v2-s transfo frames 1234 stride 2 - 0.6829\n",
    "EXP_FOLDER = \"../logs/2023-07-13/5/\" # v2-s transfo frames 2345 stride 2 - 0.6825"
   ]
  },
  {
   "cell_type": "code",
   "execution_count": null,
   "metadata": {},
   "outputs": [],
   "source": [
    "# 5 runs - cvnxt-nano\n",
    "\n",
    "# 2D\n",
    "EXP_FOLDER = \"../logs/2023-07-17/10/\"\n",
    "EXP_FOLDER = \"../logs/2023-07-18/4/\" \n",
    "EXP_FOLDER = \"../logs/2023-07-18/7/\" \n",
    "EXP_FOLDER = \"../logs/2023-07-18/12/\" \n",
    "EXP_FOLDER = \"../logs/2023-07-19/1/\" \n",
    "\n",
    "# CNN frames 1234\n",
    "EXP_FOLDER = \"../logs/2023-07-18/0/\" \n",
    "EXP_FOLDER = \"../logs/2023-07-18/6/\" \n",
    "EXP_FOLDER = \"../logs/2023-07-18/10/\" \n",
    "EXP_FOLDER = \"../logs/2023-07-19/0/\" \n",
    "EXP_FOLDER = \"../logs/2023-07-19/2/\" \n",
    "\n",
    "# LSTM frames 1234\n",
    "EXP_FOLDER = \"../logs/2023-07-19/10/\"\n",
    "EXP_FOLDER = \"../logs/2023-07-19/12/\"\n",
    "EXP_FOLDER = \"../logs/2023-07-19/15/\"\n",
    "EXP_FOLDER = \"../logs/2023-07-19/17/\""
   ]
  },
  {
   "cell_type": "code",
   "execution_count": null,
   "metadata": {},
   "outputs": [],
   "source": [
    "# 5 runs - v2s\n",
    "\n",
    "# 2D\n",
    "EXP_FOLDER = \"../logs/2023-07-19/22/\"\n",
    "EXP_FOLDER = \"../logs/2023-07-19/21/\"\n",
    "EXP_FOLDER = \"../logs/2023-07-19/20/\"\n",
    "EXP_FOLDER = \"../logs/2023-07-19/18/\"\n",
    "EXP_FOLDER = \"../logs/2023-07-20/1/\"\n",
    "\n",
    "# LSTM frames 2345\n",
    "EXP_FOLDER = \"../logs/2023-07-19/25/\"\n",
    "EXP_FOLDER = \"../logs/2023-07-19/24/\"\n",
    "EXP_FOLDER = \"../logs/2023-07-19/23/\"\n",
    "EXP_FOLDER = \"../logs/2023-07-19/19/\"\n",
    "EXP_FOLDER = \"../logs/2023-07-20/2/\"\n",
    "\n",
    "# LSTM frames 01234567 stride 1\n",
    "EXP_FOLDER = \"../logs/2023-07-22/8/\"\n",
    "EXP_FOLDER = \"../logs/2023-07-22/10/\"\n",
    "EXP_FOLDER = \"../logs/2023-07-22/16/\"\n",
    "EXP_FOLDER = \"../logs/2023-07-23/3/\"\n",
    "EXP_FOLDER = \"../logs/2023-07-23/7/\" \n",
    "\n",
    "# v2s ext stride 2\n",
    "EXP_FOLDER = \"../logs/2023-07-29/1/\"\n",
    "EXP_FOLDER = \"../logs/2023-07-29/0/\"\n",
    "EXP_FOLDER = \"../logs/2023-07-28/10/\"\n",
    "EXP_FOLDER = \"../logs/2023-07-28/9/\" \n",
    "EXP_FOLDER = \"../logs/2023-07-29/13/\" \n",
    "EXP_FOLDER = \"../logs/2023-07-30/0/\" \n",
    "\n",
    "EXP_FOLDER = \"../logs/2023-07-30/6/\"\n"
   ]
  },
  {
   "cell_type": "code",
   "execution_count": null,
   "metadata": {},
   "outputs": [],
   "source": [
    "preds = kfold_inference(df_val if DEBUG else df, EXP_FOLDER, use_fp16=USE_FP16, save=SAVE)"
   ]
  },
  {
   "cell_type": "code",
   "execution_count": null,
   "metadata": {},
   "outputs": [],
   "source": [
    "# preds = []\n",
    "# os.makedirs(EXP_FOLDER + \"pl_masks/\", exist_ok=True)\n",
    "\n",
    "# for fold in [1, 2, 3]:\n",
    "#     print(f\"\\n- Fold {fold + 1}\")\n",
    "#     df_ = df[df['fold'] == fold].reset_index(drop=True)\n",
    "    \n",
    "#     pred_val = np.load(EXP_FOLDER + f\"pred_val_{fold}.npy\")\n",
    "    \n",
    "#     for i in tqdm(range(len(df_))):\n",
    "#         mask = pred_val[i][0].astype(np.float32)\n",
    "#         record_id = df_['record_id'][i]\n",
    "        \n",
    "#         np.save(EXP_FOLDER + \"pl_masks/\" + str(record_id) + \".npy\", mask)"
   ]
  },
  {
   "cell_type": "code",
   "execution_count": null,
   "metadata": {},
   "outputs": [],
   "source": [
    "# preds_gpu = torch.from_numpy(preds[0]).cuda()\n",
    "# truths_gpu = torch.from_numpy(gts).cuda()\n",
    "\n",
    "# dices = {}\n",
    "# for th in tqdm(np.round(np.arange(0.2, 0.6, 0.01), 2)):\n",
    "#     dices[th] = dice_score_torch((preds_gpu > th), truths_gpu)\n",
    "    \n",
    "# th, dice = max(dices.items(), key=operator.itemgetter(1))\n",
    "# print(f'-> CV dice :  {dice:.4f}   (th={th:.2f})')"
   ]
  },
  {
   "cell_type": "code",
   "execution_count": null,
   "metadata": {},
   "outputs": [],
   "source": [
    "# preds_gpu = torch.from_numpy(preds[0]).cuda()\n",
    "# truths_gpu = torch.from_numpy(gts).cuda()\n",
    "\n",
    "# dices = {}\n",
    "# for th in tqdm(np.round(np.arange(0.2, 0.6, 0.01), 2)):\n",
    "#     dices[th] = dice_score_torch((preds_gpu > th), truths_gpu)\n",
    "    \n",
    "# th, dice = max(dices.items(), key=operator.itemgetter(1))\n",
    "# print(f'-> CV dice :  {dice:.4f}   (th={th:.2f})')"
   ]
  },
  {
   "cell_type": "markdown",
   "metadata": {},
   "source": [
    "### Blends"
   ]
  },
  {
   "cell_type": "code",
   "execution_count": null,
   "metadata": {},
   "outputs": [],
   "source": [
    "EXP_FOLDERS = [\n",
    "# #     \"../logs/2023-07-03/35/\",  # v2-s stride 2          - 0.6845\n",
    "# #     \"../logs/2023-07-05/35/\",  # convnext-nano cont     - 0.6844\n",
    "\n",
    "#     \"../logs/2023-07-11/13/\",  # v2-s lstm frames 01234 stride 1 - 0.6822\n",
    "# #     \"../logs/2023-07-11/20/\",  # v2-s lstm frames 01234 stride 1 - 0.6817\n",
    "# #     \"../logs/2023-07-12/10/\",  # v2-s cnn frames 23456 stride 1 - 0.6812\n",
    "\n",
    "#     \"../logs/2023-07-11/26/\",  # v2-s lstm frames 234   stride 2 - 0.6846\n",
    "# #     \"../logs/2023-07-11/28/\",  # v2-s lstm frames 1234  stride 2 - 0.6833\n",
    "#     \"../logs/2023-07-11/37/\",  # cvnxt-nano lstm frames 1234 stride 2 - 0.6853\n",
    "#     \"../logs/2023-07-11/39/\",  # cvnxt-nano lstm frames 1234 stride 2 - 0.6849\n",
    "    \n",
    "#     \"../logs/2023-07-12/11/\",  # v2-s cnn frames 345 stride 2 - 0.6843\n",
    "#     \"../logs/2023-07-12/13/\",  # v2-s lstm frames 2345 stride 2 - 0.6866\n",
    "#     \"../logs/2023-07-12/16/\", # cvnxt-nano cnn frames 1234 stride 2 - 0.6863\n",
    "# #     \"../logs/2023-07-12/17/\", # cvnxt-nano cnn frames 345 stride 2 - 0.6843\n",
    "#     \"../logs/2023-07-12/21/\", # cvnxt-nano lstm cnn frames 1234 stride 2 - 0.6860\n",
    "#     \"../logs/2023-07-12/22/\", # cvnxt-nano lstm frames 2345 stride 2 - 0.6865\n",
    "\n",
    "#     \"../logs/2023-07-13/2/\", # cvnxt-nano transfo frames 2345 stride 2 - 0.6837\n",
    "#     \"../logs/2023-07-13/3/\", # cvnxt-nano transfo frames 1234 stride 2 - 0.6842\n",
    "#     \"../logs/2023-07-13/4/\", # v2-s transfo frames 1234 stride 2 - 0.68\n",
    "    \n",
    "    \n",
    "    \"../logs/2023-07-18/0/\",\n",
    "    \"../logs/2023-07-19/10/\",\n",
    "    \"../logs/2023-07-19/12/\",\n",
    "]\n",
    "\n",
    "PREDS = {f: torch.from_numpy(np.load(f + \"pred_val_0.npy\")).cuda() for f in tqdm(EXP_FOLDERS)}"
   ]
  },
  {
   "cell_type": "code",
   "execution_count": null,
   "metadata": {},
   "outputs": [],
   "source": [
    "truths_gpu = torch.from_numpy(gts).cuda()\n",
    "\n",
    "used = []\n",
    "for f1 in tqdm(EXP_FOLDERS):\n",
    "    for f2 in EXP_FOLDERS[EXP_FOLDERS.index(f1):]:\n",
    "        for f3 in EXP_FOLDERS[EXP_FOLDERS.index(f2):]:\n",
    "#             for f4 in EXP_FOLDERS[EXP_FOLDERS.index(f3) + 1:]:\n",
    "            files = sorted(list(set([f1, f2, f3]))) # , f4]\n",
    "            preds_gpu = torch.stack([PREDS[f] for f in files], 0).mean(0)\n",
    "\n",
    "            dices = {}\n",
    "            for th in np.round(np.arange(0.4, 0.5, 0.01), 2):\n",
    "                dices[th] = dice_score_torch((preds_gpu > th), truths_gpu)\n",
    "            th, dice = max(dices.items(), key=operator.itemgetter(1))\n",
    "\n",
    "            if dice > 0.6995:\n",
    "                print(\"\\t\".join(files), f'\\t-  CV dice :  {dice:.4f}   (th={th:.2f})')\n",
    "                used += files"
   ]
  },
  {
   "cell_type": "code",
   "execution_count": null,
   "metadata": {},
   "outputs": [],
   "source": [
    "count = Counter(sorted(used))\n",
    "\n",
    "print('Not used :', [f for f in EXP_FOLDERS if f not in count])\n",
    "count"
   ]
  },
  {
   "cell_type": "code",
   "execution_count": null,
   "metadata": {},
   "outputs": [],
   "source": [
    "EXP_FOLDERS = [  # 0.7016\n",
    "    \"../logs/2023-07-11/13/\",  # v2-s lstm frames 01234 stride 1 - 0.6822\n",
    "    \"../logs/2023-07-11/26/\",  # v2-s lstm frames 234 stride 2 - 0.6846\n",
    "    \"../logs/2023-07-12/13/\",  # v2-s lstm frames 2345 stride 2 - 0.6866\n",
    "    \"../logs/2023-07-12/16/\",  # cvnxt-nano cnn frames 1234 stride 2 - 0.6863\n",
    "    \"../logs/2023-07-12/21/\",  # cvnxt-nano cnn+lstm frames 1234 stride 2 - 0.6860\n",
    "]"
   ]
  },
  {
   "cell_type": "code",
   "execution_count": null,
   "metadata": {},
   "outputs": [],
   "source": [
    "EXP_FOLDERS = [  # 0.6997\n",
    "    \"../logs/2023-07-11/26/\",  # v2-s lstm frames 234   stride 2 - 0.6846\n",
    "    \"../logs/2023-07-12/16/\", # cvnxt-nano cnn frames 1234 stride 2 - 0.6863\n",
    "]"
   ]
  },
  {
   "cell_type": "code",
   "execution_count": null,
   "metadata": {},
   "outputs": [],
   "source": [
    "EXP_FOLDERS = [\n",
    "    \"../logs/2023-07-18/0/\",\n",
    "    \"../logs/2023-07-19/10/\",\n",
    "    \"../logs/2023-07-19/12/\",\n",
    "]"
   ]
  },
  {
   "cell_type": "code",
   "execution_count": null,
   "metadata": {},
   "outputs": [],
   "source": [
    "# try:\n",
    "#     preds = np.average([\n",
    "#         np.load(f + \"pred_val_0.npy\") for f in EXP_FOLDERS\n",
    "#     ], axis=0, weights=WEIGHTS)\n",
    "#     print('Weighted avg !')\n",
    "# except:\n",
    "preds = torch.stack([PREDS[f] for f in EXP_FOLDERS], 0).mean(0)"
   ]
  },
  {
   "cell_type": "code",
   "execution_count": null,
   "metadata": {},
   "outputs": [],
   "source": [
    "truths_gpu = torch.from_numpy(gts).cuda()\n",
    "\n",
    "dices = {}\n",
    "for th in np.round(np.arange(0.2, 0.6, 0.01), 2):\n",
    "    dices[th] = dice_score_torch((preds > th), truths_gpu)\n",
    "    \n",
    "th, dice = max(dices.items(), key=operator.itemgetter(1))\n",
    "print(f'-> CV dice :  {dice:.4f}   (th={th:.2f})')"
   ]
  },
  {
   "cell_type": "code",
   "execution_count": null,
   "metadata": {},
   "outputs": [],
   "source": [
    "plt.plot(np.array(list(dices.keys())).astype(float), dices.values())\n",
    "plt.axvline(th, c=\"salmon\")\n",
    "plt.xlim(th - 0.1, th + 0.1)\n",
    "plt.ylim(dice - 0.01, dice + 0.002)\n",
    "plt.title(f'dice={dice:.3f}, th={th:.2f}')\n",
    "plt.show()"
   ]
  },
  {
   "cell_type": "code",
   "execution_count": null,
   "metadata": {},
   "outputs": [],
   "source": [
    "# upload_to_kaggle(EXP_FOLDERS, \"../output/dataset_v1/\", \"Contrail Weights v1\", update_folders=True)"
   ]
  },
  {
   "cell_type": "markdown",
   "metadata": {},
   "source": [
    "### Multiple seeds"
   ]
  },
  {
   "cell_type": "code",
   "execution_count": null,
   "metadata": {},
   "outputs": [],
   "source": [
    "# 5 runs - cvnxt-nano cnn frames 1234 stride 2 - 0.6863\n",
    "EXP_FOLDERS = [\n",
    "    # cvnxt-nano \n",
    "#     # 2D - 0.6855\n",
    "#     \"../logs/2023-07-17/10/\",\n",
    "#     \"../logs/2023-07-18/4/\" ,\n",
    "#     \"../logs/2023-07-18/7/\" ,\n",
    "#     \"../logs/2023-07-18/12/\" ,\n",
    "#     \"../logs/2023-07-19/1/\" ,\n",
    "\n",
    "# #     # CNN 1234 - 0.6900\n",
    "#     \"../logs/2023-07-18/0/\" ,\n",
    "#     \"../logs/2023-07-18/6/\" ,\n",
    "#     \"../logs/2023-07-18/10/\" ,\n",
    "#     \"../logs/2023-07-19/0/\" ,\n",
    "#     \"../logs/2023-07-19/2/\", \n",
    "\n",
    "#     # LSTM 1234 - 0.6890\n",
    "#     \"../logs/2023-07-19/10/\",\n",
    "#     \"../logs/2023-07-19/12/\",\n",
    "#     \"../logs/2023-07-19/15/\",\n",
    "#     \"../logs/2023-07-19/17/\",\n",
    "    \n",
    "    # v2s\n",
    "#     # 2D\n",
    "#     \"../logs/2023-07-19/22/\",\n",
    "#     \"../logs/2023-07-19/21/\",\n",
    "#     \"../logs/2023-07-19/20/\",\n",
    "#     \"../logs/2023-07-19/18/\",\n",
    "#     \"../logs/2023-07-20/1/\",\n",
    "\n",
    "#     # LSTM 2345  - 0.6905\n",
    "#     \"../logs/2023-07-19/25/\",\n",
    "#     \"../logs/2023-07-19/24/\",\n",
    "#     \"../logs/2023-07-19/23/\",\n",
    "#     \"../logs/2023-07-19/19/\",\n",
    "#     \"../logs/2023-07-20/2/\",\n",
    "    \n",
    "#     # LSTM 01234567  - 0.6860   \n",
    "#     \"../logs/2023-07-22/8/\",\n",
    "#     \"../logs/2023-07-22/10/\",\n",
    "#     \"../logs/2023-07-22/16/\",\n",
    "#     \"../logs/2023-07-23/3/\",\n",
    "#     \"../logs/2023-07-23/7/\" ,\n",
    "    \n",
    "    # Ext data 100 epochs\n",
    "    \"../logs/2023-07-29/1/\",\n",
    "#     \"../logs/2023-07-29/0/\",\n",
    "#     \"../logs/2023-07-28/10/\",   # 200 ep\n",
    "    \"../logs/2023-07-28/9/\" ,\n",
    "    \"../logs/2023-07-29/13/\",\n",
    "    \"../logs/2023-07-30/0/\",\n",
    "    \"../logs/2023-07-30/6/\",\n",
    "]\n",
    "\n",
    "PREDS = {f: torch.from_numpy(np.load(f + \"pred_val_0.npy\")).cuda() for f in tqdm(EXP_FOLDERS)}"
   ]
  },
  {
   "cell_type": "code",
   "execution_count": null,
   "metadata": {},
   "outputs": [],
   "source": [
    "# upload_to_kaggle(EXP_FOLDERS, \"../output/dataset_v1/\", \"Contrail Weights v1\", update_folders=True)"
   ]
  },
  {
   "cell_type": "code",
   "execution_count": null,
   "metadata": {},
   "outputs": [],
   "source": [
    "truths_gpu = torch.from_numpy(gts).cuda()\n",
    "scores = []\n",
    "\n",
    "for exp_folder in EXP_FOLDERS:\n",
    "    preds = PREDS[exp_folder]\n",
    "\n",
    "    dices = {}\n",
    "    for th in np.round(np.arange(0.2, 0.6, 0.01), 2):\n",
    "        dices[th] = dice_score_torch((preds > th), truths_gpu)\n",
    "\n",
    "    th, dice = max(dices.items(), key=operator.itemgetter(1))\n",
    "    print(f'-> {exp_folder}\\t-  CV dice :  {dice:.4f}   (th={th:.2f})')\n",
    "    scores.append(dice)\n",
    "    \n",
    "print(f'\\n  --> Avg of CV : {np.mean(scores):.4f} +/- {np.std(scores):.4f}')\n",
    "\n",
    "\n",
    "preds = torch.stack([PREDS[f] for f in EXP_FOLDERS], 0).mean(0)\n",
    "\n",
    "dices = {}\n",
    "for th in np.round(np.arange(0.2, 0.6, 0.01), 2):\n",
    "    dices[th] = dice_score_torch((preds > th), truths_gpu)\n",
    "    \n",
    "th, dice = max(dices.items(), key=operator.itemgetter(1))\n",
    "print(f'  --> CV of avg : {dice:.4f}   (th={th:.2f})')"
   ]
  },
  {
   "cell_type": "code",
   "execution_count": null,
   "metadata": {},
   "outputs": [],
   "source": [
    "plt.plot(np.array(list(dices.keys())).astype(float), dices.values())\n",
    "plt.axvline(th, c=\"salmon\")\n",
    "plt.xlim(th - 0.1, th + 0.1)\n",
    "plt.ylim(dice - 0.01, dice + 0.002)\n",
    "plt.title(f'dice={dice:.3f}, th={th:.2f}')\n",
    "plt.show()"
   ]
  },
  {
   "cell_type": "markdown",
   "metadata": {},
   "source": [
    "### Plot errors\n",
    "- TODO"
   ]
  },
  {
   "cell_type": "markdown",
   "metadata": {},
   "source": [
    "Done ! "
   ]
  }
 ],
 "metadata": {
  "kernelspec": {
   "display_name": "Python 3 (ipykernel)",
   "language": "python",
   "name": "python3"
  },
  "language_info": {
   "codemirror_mode": {
    "name": "ipython",
    "version": 3
   },
   "file_extension": ".py",
   "mimetype": "text/x-python",
   "name": "python",
   "nbconvert_exporter": "python",
   "pygments_lexer": "ipython3",
   "version": "3.10.6"
  },
  "vscode": {
   "interpreter": {
    "hash": "f7241b2af102f7e024509099765066b36197b195077f7bfac6e5bc041ba17c8c"
   }
  }
 },
 "nbformat": 4,
 "nbformat_minor": 4
}
