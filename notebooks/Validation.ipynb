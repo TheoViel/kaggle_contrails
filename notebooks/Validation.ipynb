{
 "cells": [
  {
   "cell_type": "markdown",
   "metadata": {},
   "source": [
    "**About** : This notebook is used to validate models."
   ]
  },
  {
   "cell_type": "code",
   "execution_count": null,
   "metadata": {},
   "outputs": [],
   "source": [
    "# %load_ext nb_black\n",
    "%load_ext autoreload\n",
    "%autoreload 2"
   ]
  },
  {
   "cell_type": "code",
   "execution_count": null,
   "metadata": {},
   "outputs": [],
   "source": [
    "cd ../src/"
   ]
  },
  {
   "cell_type": "markdown",
   "metadata": {},
   "source": [
    "## Initialization"
   ]
  },
  {
   "cell_type": "markdown",
   "metadata": {},
   "source": [
    "### Imports"
   ]
  },
  {
   "cell_type": "code",
   "execution_count": null,
   "metadata": {},
   "outputs": [],
   "source": [
    "import os\n",
    "import torch\n",
    "\n",
    "print(torch.__version__)\n",
    "os.environ['CUDA_VISIBLE_DEVICES'] = \"1\"\n",
    "device = torch.cuda.get_device_name(0)\n",
    "print(device)"
   ]
  },
  {
   "cell_type": "code",
   "execution_count": null,
   "metadata": {},
   "outputs": [],
   "source": [
    "import os\n",
    "import sys\n",
    "import glob\n",
    "import json\n",
    "import timm\n",
    "import torch\n",
    "import operator\n",
    "import warnings\n",
    "import numpy as np\n",
    "import pandas as pd\n",
    "import seaborn as sns\n",
    "import matplotlib.pyplot as plt\n",
    "\n",
    "from tqdm import tqdm\n",
    "from sklearn.metrics import *\n",
    "from numerize.numerize import numerize\n",
    "\n",
    "pd.set_option('display.width', 500)\n",
    "pd.set_option('max_colwidth', 100)"
   ]
  },
  {
   "cell_type": "code",
   "execution_count": null,
   "metadata": {},
   "outputs": [],
   "source": [
    "from params import *\n",
    "from util.plots import *\n",
    "from util.metrics import *\n",
    "\n",
    "from data.dataset import ContrailDataset\n",
    "from data.transforms import get_transfos\n",
    "from data.preparation import prepare_data\n",
    "from util.plots import plot_sample\n",
    "from util.logger import upload_to_kaggle\n",
    "\n",
    "from inference_main import kfold_inference, Config"
   ]
  },
  {
   "cell_type": "markdown",
   "metadata": {},
   "source": [
    "### Data"
   ]
  },
  {
   "cell_type": "code",
   "execution_count": null,
   "metadata": {},
   "outputs": [],
   "source": [
    "df = prepare_data(DATA_PATH, processed_folder=\"false_color/\")"
   ]
  },
  {
   "cell_type": "code",
   "execution_count": null,
   "metadata": {},
   "outputs": [],
   "source": [
    "if \"fold\" not in df.columns:\n",
    "    folds = pd.read_csv(DATA_PATH + \"folds_4.csv\")\n",
    "    df = df.merge(folds)"
   ]
  },
  {
   "cell_type": "code",
   "execution_count": null,
   "metadata": {},
   "outputs": [],
   "source": [
    "df_val = df[df['fold'] == 0].reset_index(drop=True)"
   ]
  },
  {
   "cell_type": "code",
   "execution_count": null,
   "metadata": {},
   "outputs": [],
   "source": [
    "DEBUG = True\n",
    "\n",
    "folders = [\n",
    "    3687499407028137410,\n",
    "    6558861185867890815,\n",
    "    7355354609194882312,\n",
    "    7547747455642200110,\n",
    "    5456834089979970017,\n",
    "    1501528175573804219,\n",
    "    5728069425727341010,\n",
    "    8604370548989406919,\n",
    "    4746167155668084215,\n",
    "    6094972442472366517,\n",
    "]\n",
    "\n",
    "if DEBUG:\n",
    "    df_val = df_val[df_val[\"record_id\"].isin(folders)].reset_index(drop=True)"
   ]
  },
  {
   "cell_type": "code",
   "execution_count": null,
   "metadata": {},
   "outputs": [],
   "source": [
    "dataset = ContrailDataset(df_val, get_transfos())\n",
    "\n",
    "gts = []\n",
    "for i in tqdm(range(len(dataset))):\n",
    "    image, mask, _ = dataset[i]\n",
    "    gts.append(mask[:1].numpy())\n",
    "    \n",
    "#     if not (i % 1000):\n",
    "#         plot_sample(image.numpy().transpose(1, 2, 0), mask[:1].numpy().transpose(1, 2, 0))\n",
    "gts = np.array(gts)"
   ]
  },
  {
   "cell_type": "markdown",
   "metadata": {},
   "source": [
    "### Inference"
   ]
  },
  {
   "cell_type": "code",
   "execution_count": null,
   "metadata": {},
   "outputs": [],
   "source": [
    "USE_FP16 = True\n",
    "SAVE = not DEBUG"
   ]
  },
  {
   "cell_type": "code",
   "execution_count": null,
   "metadata": {},
   "outputs": [],
   "source": [
    "EXP_FOLDER = \"../logs/2023-07-03/35/\"\n",
    "# EXP_FOLDER = \"../logs/2023-07-05/35/\""
   ]
  },
  {
   "cell_type": "code",
   "execution_count": null,
   "metadata": {},
   "outputs": [],
   "source": [
    "preds = kfold_inference(df_val, EXP_FOLDER, use_fp16=USE_FP16, save=SAVE)"
   ]
  },
  {
   "cell_type": "code",
   "execution_count": null,
   "metadata": {},
   "outputs": [],
   "source": [
    "preds_gpu = torch.from_numpy(preds).cuda()\n",
    "truths_gpu = torch.from_numpy(gts).cuda()\n",
    "\n",
    "dices = {}\n",
    "for th in tqdm(np.round(np.arange(0.2, 0.6, 0.01), 2)):\n",
    "    dices[th] = dice_score_torch((preds_gpu > th), truths_gpu)\n",
    "    \n",
    "th, dice = max(dices.items(), key=operator.itemgetter(1))\n",
    "print(f'-> CV dice :  {dice:.4f}   (th={th:.2f})')"
   ]
  },
  {
   "cell_type": "markdown",
   "metadata": {},
   "source": [
    "### Evaluate"
   ]
  },
  {
   "cell_type": "code",
   "execution_count": null,
   "metadata": {},
   "outputs": [],
   "source": [
    "EXP_FOLDERS = [\n",
    "    \"../logs/2023-07-03/35/\",\n",
    "    \"../logs/2023-07-05/35/\",\n",
    "]"
   ]
  },
  {
   "cell_type": "code",
   "execution_count": null,
   "metadata": {},
   "outputs": [],
   "source": [
    "preds = np.mean([\n",
    "    np.load(f + \"pred_val_0.npy\") for f in EXP_FOLDERS\n",
    "], 0)"
   ]
  },
  {
   "cell_type": "code",
   "execution_count": null,
   "metadata": {},
   "outputs": [],
   "source": [
    "preds_gpu = torch.from_numpy(preds).cuda()\n",
    "truths_gpu = torch.from_numpy(gts).cuda()\n",
    "\n",
    "dices = {}\n",
    "for th in tqdm(np.round(np.arange(0.2, 0.6, 0.01), 2)):\n",
    "    dices[th] = dice_score_torch((preds_gpu > th), truths_gpu)\n",
    "    \n",
    "th, dice = max(dices.items(), key=operator.itemgetter(1))\n",
    "print(f'-> CV dice :  {dice:.4f}   (th={th:.2f})')"
   ]
  },
  {
   "cell_type": "code",
   "execution_count": null,
   "metadata": {},
   "outputs": [],
   "source": [
    "plt.plot(np.array(list(dices.keys())).astype(float), dices.values())\n",
    "plt.axvline(th, c=\"salmon\")\n",
    "plt.xlim(th - 0.1, th + 0.1)\n",
    "plt.ylim(dice - 0.01, dice + 0.002)\n",
    "plt.title(f'dice={dice:.3f}, th={th:.2f}')\n",
    "plt.show()"
   ]
  },
  {
   "cell_type": "code",
   "execution_count": null,
   "metadata": {},
   "outputs": [],
   "source": [
    "upload_to_kaggle(EXP_FOLDERS, \"../output/dataset_v1/\", \"Contrail Weights v1\", update_folders=True)"
   ]
  },
  {
   "cell_type": "markdown",
   "metadata": {},
   "source": [
    "### Plot"
   ]
  },
  {
   "cell_type": "markdown",
   "metadata": {},
   "source": [
    "Done ! "
   ]
  }
 ],
 "metadata": {
  "kernelspec": {
   "display_name": "Python 3 (ipykernel)",
   "language": "python",
   "name": "python3"
  },
  "language_info": {
   "codemirror_mode": {
    "name": "ipython",
    "version": 3
   },
   "file_extension": ".py",
   "mimetype": "text/x-python",
   "name": "python",
   "nbconvert_exporter": "python",
   "pygments_lexer": "ipython3",
   "version": "3.10.6"
  },
  "vscode": {
   "interpreter": {
    "hash": "f7241b2af102f7e024509099765066b36197b195077f7bfac6e5bc041ba17c8c"
   }
  }
 },
 "nbformat": 4,
 "nbformat_minor": 4
}
