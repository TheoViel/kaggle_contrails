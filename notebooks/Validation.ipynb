{
 "cells": [
  {
   "attachments": {},
   "cell_type": "markdown",
   "metadata": {},
   "source": [
    "**About** : This notebook is used to validate models."
   ]
  },
  {
   "cell_type": "code",
   "execution_count": null,
   "metadata": {},
   "outputs": [],
   "source": [
    "%load_ext autoreload\n",
    "%autoreload 2"
   ]
  },
  {
   "cell_type": "code",
   "execution_count": null,
   "metadata": {},
   "outputs": [],
   "source": [
    "cd ../src/"
   ]
  },
  {
   "attachments": {},
   "cell_type": "markdown",
   "metadata": {},
   "source": [
    "## Initialization"
   ]
  },
  {
   "attachments": {},
   "cell_type": "markdown",
   "metadata": {},
   "source": [
    "### Imports"
   ]
  },
  {
   "cell_type": "code",
   "execution_count": null,
   "metadata": {},
   "outputs": [],
   "source": [
    "import os\n",
    "import torch\n",
    "\n",
    "print(torch.__version__)\n",
    "os.environ['CUDA_VISIBLE_DEVICES'] = \"1\"\n",
    "device = torch.cuda.get_device_name(0)\n",
    "print(device)"
   ]
  },
  {
   "cell_type": "code",
   "execution_count": null,
   "metadata": {},
   "outputs": [],
   "source": [
    "import os\n",
    "import sys\n",
    "import glob\n",
    "import json\n",
    "import timm\n",
    "import torch\n",
    "import operator\n",
    "import warnings\n",
    "import numpy as np\n",
    "import pandas as pd\n",
    "import seaborn as sns\n",
    "import matplotlib.pyplot as plt\n",
    "\n",
    "from tqdm import tqdm\n",
    "from sklearn.metrics import *\n",
    "from collections import Counter\n",
    "from numerize.numerize import numerize\n",
    "\n",
    "pd.set_option('display.width', 500)\n",
    "pd.set_option('max_colwidth', 100)"
   ]
  },
  {
   "cell_type": "code",
   "execution_count": null,
   "metadata": {},
   "outputs": [],
   "source": [
    "from params import *\n",
    "from util.plots import *\n",
    "from util.metrics import *\n",
    "\n",
    "from data.dataset import ContrailDataset\n",
    "from data.transforms import get_transfos\n",
    "from data.preparation import prepare_data\n",
    "from util.plots import plot_sample\n",
    "from util.logger import upload_to_kaggle\n",
    "\n",
    "from inference_main import kfold_inference, Config"
   ]
  },
  {
   "attachments": {},
   "cell_type": "markdown",
   "metadata": {},
   "source": [
    "### Data"
   ]
  },
  {
   "cell_type": "code",
   "execution_count": null,
   "metadata": {},
   "outputs": [],
   "source": [
    "df = prepare_data(DATA_PATH, processed_folder=\"false_color/\", use_raw=True)"
   ]
  },
  {
   "cell_type": "code",
   "execution_count": null,
   "metadata": {},
   "outputs": [],
   "source": [
    "if \"fold\" not in df.columns:\n",
    "    folds = pd.read_csv(DATA_PATH + \"folds_4.csv\")\n",
    "    df = df.merge(folds)"
   ]
  },
  {
   "cell_type": "code",
   "execution_count": null,
   "metadata": {},
   "outputs": [],
   "source": [
    "df_val = df[df['fold'] == 0].reset_index(drop=True)"
   ]
  },
  {
   "cell_type": "code",
   "execution_count": null,
   "metadata": {},
   "outputs": [],
   "source": [
    "dataset = ContrailDataset(df_val, get_transfos())\n",
    "\n",
    "gts = []\n",
    "for i in tqdm(range(len(dataset))):\n",
    "    image, mask, _ = dataset[i]\n",
    "    gts.append(mask[:1].numpy())\n",
    "gts = np.array(gts)"
   ]
  },
  {
   "attachments": {},
   "cell_type": "markdown",
   "metadata": {},
   "source": [
    "### Inference"
   ]
  },
  {
   "cell_type": "code",
   "execution_count": null,
   "metadata": {},
   "outputs": [],
   "source": [
    "USE_FP16 = True\n",
    "SAVE = True\n",
    "\n",
    "EXP_FOLDER = \"../logs/YOUR_EXP_HERE/\""
   ]
  },
  {
   "cell_type": "code",
   "execution_count": null,
   "metadata": {},
   "outputs": [],
   "source": [
    "preds = kfold_inference(df, EXP_FOLDER, use_fp16=USE_FP16, save=SAVE)"
   ]
  },
  {
   "cell_type": "code",
   "execution_count": null,
   "metadata": {},
   "outputs": [],
   "source": [
    "preds_gpu = torch.from_numpy(preds[0]).cuda()\n",
    "truths_gpu = torch.from_numpy(gts).cuda()\n",
    "\n",
    "dices = {}\n",
    "for th in tqdm(np.round(np.arange(0.2, 0.6, 0.01), 2)):\n",
    "    dices[th] = dice_score_torch((preds_gpu > th), truths_gpu)\n",
    "    \n",
    "th, dice = max(dices.items(), key=operator.itemgetter(1))\n",
    "print(f'-> CV dice :  {dice:.4f}   (th={th:.2f})')"
   ]
  },
  {
   "attachments": {},
   "cell_type": "markdown",
   "metadata": {},
   "source": [
    "### Blends"
   ]
  },
  {
   "cell_type": "code",
   "execution_count": null,
   "metadata": {},
   "outputs": [],
   "source": [
    "EXP_FOLDERS = [\n",
    "    \"../logs/YOUR_EXP1_HERE/\",\n",
    "    \"../logs/YOUR_EXP2_HERE/\",\n",
    "    \"../logs/YOUR_EXP3_HERE/\",\n",
    "]\n",
    "\n",
    "PREDS = {f: torch.from_numpy(np.load(f + \"pred_val_0.npy\")).cuda() for f in tqdm(EXP_FOLDERS)}"
   ]
  },
  {
   "cell_type": "code",
   "execution_count": null,
   "metadata": {},
   "outputs": [],
   "source": [
    "truths_gpu = torch.from_numpy(gts).cuda()\n",
    "scores = []\n",
    "\n",
    "for exp_folder in EXP_FOLDERS:\n",
    "    preds = PREDS[exp_folder]\n",
    "\n",
    "    dices = {}\n",
    "    for th in np.round(np.arange(0.2, 0.6, 0.01), 2):\n",
    "        dices[th] = dice_score_torch((preds > th), truths_gpu)\n",
    "\n",
    "    th, dice = max(dices.items(), key=operator.itemgetter(1))\n",
    "    print(f'-> {exp_folder}\\t-  CV dice :  {dice:.4f}   (th={th:.2f})')\n",
    "    scores.append(dice)\n",
    "    \n",
    "print(f'\\n  --> Avg of CV : {np.mean(scores):.4f} +/- {np.std(scores):.4f}')\n",
    "\n",
    "preds = torch.stack([PREDS[f] for f in EXP_FOLDERS], 0).mean(0)\n",
    "\n",
    "dices = {}\n",
    "for th in np.round(np.arange(0.4, 0.6, 0.01), 2):\n",
    "    dices[th] = dice_score_torch((preds > th), truths_gpu)\n",
    "    \n",
    "th, dice = max(dices.items(), key=operator.itemgetter(1))\n",
    "print(f'  --> CV of avg : {dice:.4f}   (th={th:.2f})')"
   ]
  },
  {
   "attachments": {},
   "cell_type": "markdown",
   "metadata": {},
   "source": [
    "Done ! "
   ]
  }
 ],
 "metadata": {
  "kernelspec": {
   "display_name": "Python 3 (ipykernel)",
   "language": "python",
   "name": "python3"
  },
  "language_info": {
   "codemirror_mode": {
    "name": "ipython",
    "version": 3
   },
   "file_extension": ".py",
   "mimetype": "text/x-python",
   "name": "python",
   "nbconvert_exporter": "python",
   "pygments_lexer": "ipython3",
   "version": "3.10.6"
  },
  "vscode": {
   "interpreter": {
    "hash": "f7241b2af102f7e024509099765066b36197b195077f7bfac6e5bc041ba17c8c"
   }
  }
 },
 "nbformat": 4,
 "nbformat_minor": 4
}
